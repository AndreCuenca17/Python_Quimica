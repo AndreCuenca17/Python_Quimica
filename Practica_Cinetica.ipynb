{
  "nbformat": 4,
  "nbformat_minor": 0,
  "metadata": {
    "colab": {
      "provenance": [],
      "include_colab_link": true
    },
    "kernelspec": {
      "name": "python3",
      "display_name": "Python 3"
    },
    "language_info": {
      "name": "python"
    }
  },
  "cells": [
    {
      "cell_type": "markdown",
      "metadata": {
        "id": "view-in-github",
        "colab_type": "text"
      },
      "source": [
        "<a href=\"https://colab.research.google.com/github/AndreCuenca17/Python_Quimica/blob/main/Practica_Cinetica.ipynb\" target=\"_parent\"><img src=\"https://colab.research.google.com/assets/colab-badge.svg\" alt=\"Open In Colab\"/></a>"
      ]
    },
    {
      "cell_type": "code",
      "execution_count": 3,
      "metadata": {
        "colab": {
          "base_uri": "https://localhost:8080/"
        },
        "id": "dlkL42xUTybR",
        "outputId": "66c2857f-49e1-43c9-9689-bee469963862"
      },
      "outputs": [
        {
          "output_type": "stream",
          "name": "stdout",
          "text": [
            "Collecting rdkit\n",
            "  Downloading rdkit-2023.9.1-cp310-cp310-manylinux_2_17_x86_64.manylinux2014_x86_64.whl (30.5 MB)\n",
            "\u001b[2K     \u001b[90m━━━━━━━━━━━━━━━━━━━━━━━━━━━━━━━━━━━━━━━━\u001b[0m \u001b[32m30.5/30.5 MB\u001b[0m \u001b[31m39.0 MB/s\u001b[0m eta \u001b[36m0:00:00\u001b[0m\n",
            "\u001b[?25hRequirement already satisfied: numpy in /usr/local/lib/python3.10/dist-packages (from rdkit) (1.23.5)\n",
            "Requirement already satisfied: Pillow in /usr/local/lib/python3.10/dist-packages (from rdkit) (9.4.0)\n",
            "Installing collected packages: rdkit\n",
            "Successfully installed rdkit-2023.9.1\n",
            "Collecting pyscf\n",
            "  Downloading pyscf-2.4.0-py3-none-manylinux_2_17_x86_64.manylinux2014_x86_64.whl (47.3 MB)\n",
            "\u001b[2K     \u001b[90m━━━━━━━━━━━━━━━━━━━━━━━━━━━━━━━━━━━━━━━━\u001b[0m \u001b[32m47.3/47.3 MB\u001b[0m \u001b[31m10.3 MB/s\u001b[0m eta \u001b[36m0:00:00\u001b[0m\n",
            "\u001b[?25hRequirement already satisfied: numpy!=1.16,!=1.17,>=1.13 in /usr/local/lib/python3.10/dist-packages (from pyscf) (1.23.5)\n",
            "Requirement already satisfied: scipy!=1.5.0,!=1.5.1 in /usr/local/lib/python3.10/dist-packages (from pyscf) (1.11.3)\n",
            "Requirement already satisfied: h5py>=2.7 in /usr/local/lib/python3.10/dist-packages (from pyscf) (3.9.0)\n",
            "Requirement already satisfied: setuptools in /usr/local/lib/python3.10/dist-packages (from pyscf) (67.7.2)\n",
            "Installing collected packages: pyscf\n",
            "Successfully installed pyscf-2.4.0\n"
          ]
        }
      ],
      "source": [
        "! pip install rdkit\n",
        "! pip install pyscf"
      ]
    },
    {
      "cell_type": "code",
      "source": [
        "from rdkit import Chem\n",
        "from rdkit.Chem import Draw\n",
        "from rdkit.Chem import AllChem\n",
        "from rdkit.Chem.Draw import IPythonConsole\n",
        "IPythonConsole.drawOptions.addAtomIndices = True"
      ],
      "metadata": {
        "id": "wUaMIHs7Zwzf"
      },
      "execution_count": 5,
      "outputs": []
    },
    {
      "cell_type": "markdown",
      "source": [
        "# Calculando Molecula cis"
      ],
      "metadata": {
        "id": "AR4DCKggiFxM"
      }
    },
    {
      "cell_type": "code",
      "source": [
        "smiles = \"F\\C=C/C\"\n",
        "mol_cis = Chem.MolFromSmiles(smiles)\n",
        "mol_cis = Chem.AddHs(mol_cis)\n",
        "Chem.AllChem.EmbedMolecule(mol_cis,useRandomCoords=False, randomSeed = 36)\n",
        "Chem.MolToXYZFile(mol_cis,\"moleculacis.xyz\")\n",
        "mol_cis"
      ],
      "metadata": {
        "colab": {
          "base_uri": "https://localhost:8080/",
          "height": 167
        },
        "id": "R2Rh6q51aVb4",
        "outputId": "2ad8a6f0-cbba-4bae-ef48-910e3b94c1f3"
      },
      "execution_count": 6,
      "outputs": [
        {
          "output_type": "execute_result",
          "data": {
            "text/plain": [
              "<rdkit.Chem.rdchem.Mol at 0x7e615663ba00>"
            ],
            "image/png": "[encoded data removed]"
          },
          "metadata": {},
          "execution_count": 6
        }
      ]
    },
    {
      "cell_type": "code",
      "source": [
        "cat moleculacis.xyz"
      ],
      "metadata": {
        "colab": {
          "base_uri": "https://localhost:8080/"
        },
        "id": "0k7-RGuOavYO",
        "outputId": "688e5b44-7d04-4248-cb40-835eb92f0f47"
      },
      "execution_count": 7,
      "outputs": [
        {
          "output_type": "stream",
          "name": "stdout",
          "text": [
            "9\n",
            "\n",
            "F      1.068487    1.647800    0.075657\n",
            "C      1.318920    0.315358   -0.019604\n",
            "C      0.285099   -0.505982   -0.050222\n",
            "C     -1.129875   -0.026457    0.015396\n",
            "H      2.338028   -0.079534   -0.070190\n",
            "H      0.475950   -1.568788   -0.125997\n",
            "H     -1.602537   -0.255516   -0.952241\n",
            "H     -1.155231    1.055927    0.268748\n",
            "H     -1.598841   -0.582809    0.858453\n"
          ]
        }
      ]
    },
    {
      "cell_type": "code",
      "source": [
        "from pyscf import gto, scf"
      ],
      "metadata": {
        "id": "6_RzfWIThRll"
      },
      "execution_count": 9,
      "outputs": []
    },
    {
      "cell_type": "code",
      "source": [
        "molecula_cis1 = gto.M(atom=\"moleculacis.xyz\")"
      ],
      "metadata": {
        "id": "tqx2EJZJhbW8"
      },
      "execution_count": 10,
      "outputs": []
    },
    {
      "cell_type": "code",
      "source": [
        "molecula_cis1.basis = \"3-21G\"\n",
        "\n",
        "mf = molecula_cis1.KS()\n",
        "mf.xc = 'b3lyp'"
      ],
      "metadata": {
        "id": "Cfrja1sYhm30"
      },
      "execution_count": 13,
      "outputs": []
    },
    {
      "cell_type": "code",
      "source": [
        "mf.kernel()"
      ],
      "metadata": {
        "colab": {
          "base_uri": "https://localhost:8080/"
        },
        "id": "sXm5Nf_EhtWM",
        "outputId": "696704bd-5900-4fd5-fe5d-9b2f848e3b61"
      },
      "execution_count": 14,
      "outputs": [
        {
          "output_type": "stream",
          "name": "stdout",
          "text": [
            "converged SCF energy = -214.25247189141\n"
          ]
        },
        {
          "output_type": "execute_result",
          "data": {
            "text/plain": [
              "-214.25247189141038"
            ]
          },
          "metadata": {},
          "execution_count": 14
        }
      ]
    },
    {
      "cell_type": "code",
      "source": [
        "resultado=[mf.kernel()]"
      ],
      "metadata": {
        "colab": {
          "base_uri": "https://localhost:8080/"
        },
        "id": "5HGnz_KFk-q-",
        "outputId": "4ec32ed2-b460-4c24-a38b-c1f83e73f1f8"
      },
      "execution_count": 15,
      "outputs": [
        {
          "output_type": "stream",
          "name": "stdout",
          "text": [
            "converged SCF energy = -214.252471891411\n"
          ]
        }
      ]
    },
    {
      "cell_type": "markdown",
      "source": [
        "# Calculando Molecula trans"
      ],
      "metadata": {
        "id": "CbtP9NoLiSvU"
      }
    },
    {
      "cell_type": "code",
      "source": [
        "smiles = \"F/C=C/C\"\n",
        "mol_trans = Chem.MolFromSmiles(smiles)\n",
        "mol_trans = Chem.AddHs(mol_trans)\n",
        "Chem.AllChem.EmbedMolecule(mol_trans,useRandomCoords=False, randomSeed = 36)\n",
        "Chem.MolToXYZFile(mol_trans,\"moleculatrans.xyz\")\n",
        "mol_trans"
      ],
      "metadata": {
        "colab": {
          "base_uri": "https://localhost:8080/",
          "height": 167
        },
        "outputId": "1df22436-0969-4ef6-f82e-fc4dfb894422",
        "id": "JD9pkpCKic8B"
      },
      "execution_count": 16,
      "outputs": [
        {
          "output_type": "execute_result",
          "data": {
            "text/plain": [
              "<rdkit.Chem.rdchem.Mol at 0x7e6146029620>"
            ],
            "image/png": "[encoded data removed]"
          },
          "metadata": {},
          "execution_count": 16
        }
      ]
    },
    {
      "cell_type": "code",
      "source": [
        "cat moleculatrans.xyz"
      ],
      "metadata": {
        "colab": {
          "base_uri": "https://localhost:8080/"
        },
        "id": "wdxfgwqri4m1",
        "outputId": "950432c1-4d35-4764-e22f-aa288114699e"
      },
      "execution_count": 17,
      "outputs": [
        {
          "output_type": "stream",
          "name": "stdout",
          "text": [
            "9\n",
            "\n",
            "F      2.535033   -0.060327    0.060788\n",
            "C      1.253352    0.359749   -0.094309\n",
            "C      0.273724   -0.503616    0.162284\n",
            "C     -1.126257    0.006040   -0.023233\n",
            "H      1.037712    1.373256   -0.418995\n",
            "H      0.457081   -1.525041    0.488933\n",
            "H     -1.812382   -0.886420   -0.101661\n",
            "H     -1.181964    0.620107   -0.920127\n",
            "H     -1.436299    0.616253    0.846320\n"
          ]
        }
      ]
    },
    {
      "cell_type": "code",
      "source": [
        "molecula_trans1 = gto.M(atom = \"moleculatrans.xyz\")\n",
        "molecula_trans1.basis = \"3-21G\"\n",
        "mf1 = molecula_trans1.KS()\n",
        "mf1.xc = 'b3lyp'"
      ],
      "metadata": {
        "id": "APp6uARAjIzz"
      },
      "execution_count": 20,
      "outputs": []
    },
    {
      "cell_type": "code",
      "source": [
        "mf1.kernel()"
      ],
      "metadata": {
        "colab": {
          "base_uri": "https://localhost:8080/"
        },
        "id": "3aqHbIVpjuxc",
        "outputId": "73c04b7f-606d-4db8-ac76-6748e76a3f6e"
      },
      "execution_count": 21,
      "outputs": [
        {
          "output_type": "stream",
          "name": "stdout",
          "text": [
            "converged SCF energy = -214.250579305846\n"
          ]
        },
        {
          "output_type": "execute_result",
          "data": {
            "text/plain": [
              "-214.25057930584643"
            ]
          },
          "metadata": {},
          "execution_count": 21
        }
      ]
    },
    {
      "cell_type": "code",
      "source": [
        "resultado_trans =[mf1.kernel()]"
      ],
      "metadata": {
        "colab": {
          "base_uri": "https://localhost:8080/"
        },
        "id": "9TadilnKk0S-",
        "outputId": "5d057107-531d-4230-f2b0-4d0b3795e437"
      },
      "execution_count": 22,
      "outputs": [
        {
          "output_type": "stream",
          "name": "stdout",
          "text": [
            "converged SCF energy = -214.250579305847\n"
          ]
        }
      ]
    },
    {
      "cell_type": "markdown",
      "source": [
        "# Calculando Molecula Cis Rotada"
      ],
      "metadata": {
        "id": "C-DBrGsnlZLD"
      }
    },
    {
      "cell_type": "code",
      "source": [
        "Chem.AllChem.SetDihedralDeg(mol_cis.GetConformer(0),3,2,1,0,90.0)\n",
        "Chem.MolToXYZFile(mol_cis, \"rotada.xyz\")\n",
        "mol_cis"
      ],
      "metadata": {
        "colab": {
          "base_uri": "https://localhost:8080/",
          "height": 167
        },
        "id": "6IFw9KOPbbAu",
        "outputId": "8b189f65-096b-4399-b07f-0d494d947f95"
      },
      "execution_count": 24,
      "outputs": [
        {
          "output_type": "execute_result",
          "data": {
            "text/plain": [
              "<rdkit.Chem.rdchem.Mol at 0x7e615663ba00>"
            ],
            "image/png": "[encoded data removed]"
          },
          "metadata": {},
          "execution_count": 24
        }
      ]
    },
    {
      "cell_type": "code",
      "source": [
        "cat rotada.xyz"
      ],
      "metadata": {
        "colab": {
          "base_uri": "https://localhost:8080/"
        },
        "id": "lHi629qXcJAW",
        "outputId": "b382ab85-b62c-4aad-b6e7-7f5d54992431"
      },
      "execution_count": 25,
      "outputs": [
        {
          "output_type": "stream",
          "name": "stdout",
          "text": [
            "9\n",
            "\n",
            "F      1.844174    0.629758    1.193845\n",
            "C      1.318920    0.315358   -0.019604\n",
            "C      0.285099   -0.505982   -0.050222\n",
            "C     -1.129875   -0.026457    0.015396\n",
            "H      1.727899    0.721223   -0.949705\n",
            "H      0.475950   -1.568788   -0.125997\n",
            "H     -1.602537   -0.255516   -0.952241\n",
            "H     -1.155231    1.055927    0.268748\n",
            "H     -1.598841   -0.582809    0.858453\n"
          ]
        }
      ]
    },
    {
      "cell_type": "code",
      "source": [
        "molecula_rotada = gto.M(atom = \"rotada.xyz\")\n",
        "molecula_rotada.basis = \"3-21G\"\n",
        "mf2 = molecula_rotada.KS()\n",
        "mf2.xc = 'b3lyp'"
      ],
      "metadata": {
        "id": "NisFQi0elrKb"
      },
      "execution_count": 27,
      "outputs": []
    },
    {
      "cell_type": "code",
      "source": [
        "mf2.kernel()"
      ],
      "metadata": {
        "colab": {
          "base_uri": "https://localhost:8080/"
        },
        "id": "R6NSEUgWmSUb",
        "outputId": "143ad970-d038-48f5-9f8d-44579f4633a9"
      },
      "execution_count": 28,
      "outputs": [
        {
          "output_type": "stream",
          "name": "stdout",
          "text": [
            "converged SCF energy = -214.08041116585\n"
          ]
        },
        {
          "output_type": "execute_result",
          "data": {
            "text/plain": [
              "-214.0804111658496"
            ]
          },
          "metadata": {},
          "execution_count": 28
        }
      ]
    },
    {
      "cell_type": "code",
      "source": [
        "resultado_CA = [mf2.kernel()]"
      ],
      "metadata": {
        "colab": {
          "base_uri": "https://localhost:8080/"
        },
        "id": "3FMN-xVuma1j",
        "outputId": "ce61cace-5f9d-4df2-87ec-b36d39cc4885"
      },
      "execution_count": 29,
      "outputs": [
        {
          "output_type": "stream",
          "name": "stdout",
          "text": [
            "converged SCF energy = -214.080411165849\n"
          ]
        }
      ]
    },
    {
      "cell_type": "markdown",
      "source": [
        "# Grafico"
      ],
      "metadata": {
        "id": "PbA8fkq_mvFa"
      }
    },
    {
      "cell_type": "code",
      "source": [
        "pip install git+https://github.com/giacomomarchioro/PyEnergyDiagrams"
      ],
      "metadata": {
        "colab": {
          "base_uri": "https://localhost:8080/"
        },
        "id": "vtVJXnMinQc1",
        "outputId": "16711119-9f4c-4dee-e9e1-c55367767ade"
      },
      "execution_count": 30,
      "outputs": [
        {
          "output_type": "stream",
          "name": "stdout",
          "text": [
            "Collecting git+https://github.com/giacomomarchioro/PyEnergyDiagrams\n",
            "  Cloning https://github.com/giacomomarchioro/PyEnergyDiagrams to /tmp/pip-req-build-veqibsny\n",
            "  Running command git clone --filter=blob:none --quiet https://github.com/giacomomarchioro/PyEnergyDiagrams /tmp/pip-req-build-veqibsny\n",
            "  Resolved https://github.com/giacomomarchioro/PyEnergyDiagrams to commit 3d6086564aa99aa0a0f3db4a510b736015562d5c\n",
            "  Preparing metadata (setup.py) ... \u001b[?25l\u001b[?25hdone\n",
            "Requirement already satisfied: matplotlib in /usr/local/lib/python3.10/dist-packages (from energydiagram==0.2.0) (3.7.1)\n",
            "Requirement already satisfied: contourpy>=1.0.1 in /usr/local/lib/python3.10/dist-packages (from matplotlib->energydiagram==0.2.0) (1.1.1)\n",
            "Requirement already satisfied: cycler>=0.10 in /usr/local/lib/python3.10/dist-packages (from matplotlib->energydiagram==0.2.0) (0.12.1)\n",
            "Requirement already satisfied: fonttools>=4.22.0 in /usr/local/lib/python3.10/dist-packages (from matplotlib->energydiagram==0.2.0) (4.43.1)\n",
            "Requirement already satisfied: kiwisolver>=1.0.1 in /usr/local/lib/python3.10/dist-packages (from matplotlib->energydiagram==0.2.0) (1.4.5)\n",
            "Requirement already satisfied: numpy>=1.20 in /usr/local/lib/python3.10/dist-packages (from matplotlib->energydiagram==0.2.0) (1.23.5)\n",
            "Requirement already satisfied: packaging>=20.0 in /usr/local/lib/python3.10/dist-packages (from matplotlib->energydiagram==0.2.0) (23.2)\n",
            "Requirement already satisfied: pillow>=6.2.0 in /usr/local/lib/python3.10/dist-packages (from matplotlib->energydiagram==0.2.0) (9.4.0)\n",
            "Requirement already satisfied: pyparsing>=2.3.1 in /usr/local/lib/python3.10/dist-packages (from matplotlib->energydiagram==0.2.0) (3.1.1)\n",
            "Requirement already satisfied: python-dateutil>=2.7 in /usr/local/lib/python3.10/dist-packages (from matplotlib->energydiagram==0.2.0) (2.8.2)\n",
            "Requirement already satisfied: six>=1.5 in /usr/local/lib/python3.10/dist-packages (from python-dateutil>=2.7->matplotlib->energydiagram==0.2.0) (1.16.0)\n",
            "Building wheels for collected packages: energydiagram\n",
            "  Building wheel for energydiagram (setup.py) ... \u001b[?25l\u001b[?25hdone\n",
            "  Created wheel for energydiagram: filename=energydiagram-0.2.0-py3-none-any.whl size=9465 sha256=99b3adec6402da07e34eac6d6648f3ab55f10beeb4bfa74d22db2130959bd3c3\n",
            "  Stored in directory: /tmp/pip-ephem-wheel-cache-5rq3758f/wheels/fd/36/8c/10ed87cd41f9638b1e3a44dabe7e1e185131d967ea6ed395cf\n",
            "Successfully built energydiagram\n",
            "Installing collected packages: energydiagram\n",
            "Successfully installed energydiagram-0.2.0\n"
          ]
        }
      ]
    },
    {
      "cell_type": "code",
      "source": [
        "import matplotlib.pyplot as plt\n",
        "from energydiagram import ED\n",
        "diagram = ED()\n",
        "diagram.add_level(mf.kernel(),'Cis')\n",
        "diagram.add_level(mf2.kernel(),'TS',color='g')\n",
        "diagram.add_level(mf1.kernel(),'trans')\n",
        "\n",
        "diagram.add_link(0,1)\n",
        "diagram.add_link(1,2)\n",
        "diagram.plot(ylabel=\"Energy / $kcal$ $mol^{-1}$\") # this is the default ylabel\n"
      ],
      "metadata": {
        "colab": {
          "base_uri": "https://localhost:8080/",
          "height": 448
        },
        "id": "3KqNJVRhmyzU",
        "outputId": "eaab41d3-1417-443e-b1a4-d951520e5882"
      },
      "execution_count": 32,
      "outputs": [
        {
          "output_type": "stream",
          "name": "stdout",
          "text": [
            "converged SCF energy = -214.252471891411\n",
            "converged SCF energy = -214.08041116585\n",
            "converged SCF energy = -214.250579305846\n"
          ]
        },
        {
          "output_type": "display_data",
          "data": {
            "text/plain": [
              "<Figure size 640x480 with 1 Axes>"
            ],
            "image/png": "[encoded data removed]"
          },
          "metadata": {}
        }
      ]
    },
    {
      "cell_type": "markdown",
      "source": [
        "# ¿Reacción endotérmica o exotérmica?"
      ],
      "metadata": {
        "id": "EMafgzIHoHQB"
      }
    },
    {
      "cell_type": "code",
      "source": [
        "energia_reactante = mf.kernel()"
      ],
      "metadata": {
        "colab": {
          "base_uri": "https://localhost:8080/"
        },
        "id": "38cxyKlQoQpW",
        "outputId": "e828f9a1-fddb-4e93-859c-6ffb108b1527"
      },
      "execution_count": 33,
      "outputs": [
        {
          "output_type": "stream",
          "name": "stdout",
          "text": [
            "converged SCF energy = -214.25247189141\n"
          ]
        }
      ]
    },
    {
      "cell_type": "code",
      "source": [
        "energia_producto = mf1.kernel()"
      ],
      "metadata": {
        "colab": {
          "base_uri": "https://localhost:8080/"
        },
        "id": "JI-d-pcJoyk_",
        "outputId": "6e21db13-f546-4f95-c76f-64bca8d9c72c"
      },
      "execution_count": 34,
      "outputs": [
        {
          "output_type": "stream",
          "name": "stdout",
          "text": [
            "converged SCF energy = -214.250579305846\n"
          ]
        }
      ]
    },
    {
      "cell_type": "code",
      "source": [
        "energia_entalpia = energia_producto - energia_reactante\n",
        "energia_entalpia"
      ],
      "metadata": {
        "colab": {
          "base_uri": "https://localhost:8080/"
        },
        "id": "SUdu6z9Eo9JV",
        "outputId": "7893addd-dffc-4bb9-8510-9cf52855cad2"
      },
      "execution_count": 35,
      "outputs": [
        {
          "output_type": "execute_result",
          "data": {
            "text/plain": [
              "0.001892585564064575"
            ]
          },
          "metadata": {},
          "execution_count": 35
        }
      ]
    },
    {
      "cell_type": "markdown",
      "source": [
        "Es una reacción Endotérmica debido a que la energía de entalpia es positiva"
      ],
      "metadata": {
        "id": "9xU7R8yupJ6j"
      }
    },
    {
      "cell_type": "code",
      "source": [
        "energia_comp_act = mf2.kernel()"
      ],
      "metadata": {
        "colab": {
          "base_uri": "https://localhost:8080/"
        },
        "id": "aYQFMHTpp0ux",
        "outputId": "e192a9ef-9f2c-4085-ac33-c01de058fe4d"
      },
      "execution_count": 36,
      "outputs": [
        {
          "output_type": "stream",
          "name": "stdout",
          "text": [
            "converged SCF energy = -214.080411165849\n"
          ]
        }
      ]
    },
    {
      "cell_type": "code",
      "source": [
        "energia_act = energia_comp_act - energia_reactante\n",
        "energia_act"
      ],
      "metadata": {
        "colab": {
          "base_uri": "https://localhost:8080/"
        },
        "id": "ZwMGm_-DqR-a",
        "outputId": "3403463f-feee-41f5-90c2-0e5cb735a901"
      },
      "execution_count": 37,
      "outputs": [
        {
          "output_type": "execute_result",
          "data": {
            "text/plain": [
              "0.17206072556118102"
            ]
          },
          "metadata": {},
          "execution_count": 37
        }
      ]
    }
  ]
}
