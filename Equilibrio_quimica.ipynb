{
  "nbformat": 4,
  "nbformat_minor": 0,
  "metadata": {
    "colab": {
      "provenance": [],
      "include_colab_link": true
    },
    "kernelspec": {
      "name": "python3",
      "display_name": "Python 3"
    },
    "language_info": {
      "name": "python"
    }
  },
  "cells": [
    {
      "cell_type": "markdown",
      "metadata": {
        "id": "view-in-github",
        "colab_type": "text"
      },
      "source": [
        "<a href=\"https://colab.research.google.com/github/AndreCuenca17/Python_Quimica/blob/main/Equilibrio_quimica.ipynb\" target=\"_parent\"><img src=\"https://colab.research.google.com/assets/colab-badge.svg\" alt=\"Open In Colab\"/></a>"
      ]
    },
    {
      "cell_type": "markdown",
      "source": [
        "# ***Primera propuesta (no logramos imprimir la expresion con corchetes)***"
      ],
      "metadata": {
        "id": "VpSpF-G5kFUi"
      }
    },
    {
      "cell_type": "code",
      "source": [
        "import sympy\n",
        "print('La ecuación química balanceada tendrá la forma: aA + bB -> cC')\n",
        "a = sympy.symbols('a')\n",
        "A = sympy.symbols('A')\n",
        "b = sympy.symbols('b')\n",
        "B = sympy.symbols('B')\n",
        "c = sympy.symbols('c')\n",
        "C = sympy.symbols('C')\n",
        "\n",
        "Kc =  C**c / (A**a * B**b)\n",
        "\n",
        "valor_a = input('Ingresa el valor de a: ')\n",
        "valor_A = input('Ingresa el valor de A: ')\n",
        "valor_b = input('Ingresa el valor de b: ')\n",
        "valor_B = input('Ingresa el valor de B: ')\n",
        "valor_c = input('Ingresa el valor de c: ')\n",
        "valor_C = input('Ingresa el valor de C: ')\n",
        "\n",
        "sustituciones = {a: valor_a, A: valor_A, b: valor_b, B: valor_B, c: valor_c, C: valor_C}\n",
        "expresion_evaluada = Kc.subs(sustituciones)\n",
        "print(\"La expresión del Kc es: \")\n",
        "\n",
        "sympy.expand(expresion_evaluada)"
      ],
      "metadata": {
        "id": "q3YnfjHWkR20",
        "colab": {
          "base_uri": "https://localhost:8080/",
          "height": 205
        },
        "outputId": "930545c6-31ef-4f1a-8de3-8d556aa81fd2"
      },
      "execution_count": 13,
      "outputs": [
        {
          "output_type": "stream",
          "name": "stdout",
          "text": [
            "La ecuación química balanceada tendrá la forma: aA + bB -> cC\n",
            "Ingresa el valor de a: 2\n",
            "Ingresa el valor de A: SO2\n",
            "Ingresa el valor de b: 1\n",
            "Ingresa el valor de B: O2\n",
            "Ingresa el valor de c: 2\n",
            "Ingresa el valor de C: SO3\n",
            "La expresión del Kc es: \n"
          ]
        },
        {
          "output_type": "execute_result",
          "data": {
            "text/plain": [
              "SO3**2/(O2*SO2**2)"
            ],
            "text/latex": "$\\displaystyle \\frac{SO_{3}^{2}}{O_{2} SO_{2}^{2}}$"
          },
          "metadata": {},
          "execution_count": 13
        }
      ]
    },
    {
      "cell_type": "markdown",
      "source": [
        "# ***Segunda propuesta (ampliamos el codigo para que acepte más reactivos y/o productos)***"
      ],
      "metadata": {
        "id": "NylmHziQmDf8"
      }
    },
    {
      "cell_type": "code",
      "source": [
        "from sympy import symbols, Eq, solve\n",
        "\n",
        "def obtener_expresion_Kc(ecuacion_balanceada):\n",
        "\n",
        "    sustancias = set(ecuacion_balanceada.replace('->', '+').replace('+', ' ').split())\n",
        "    concentraciones = {sustancia: symbols(sustancia) for sustancia in sustancias}\n",
        "    kc_expresion_numerador = 1\n",
        "    kc_expresion_denominador = 1\n",
        "    reactivos, productos = ecuacion_balanceada.split(' -> ')\n",
        "    reactivos = reactivos.split(' + ')\n",
        "    productos = productos.split(' + ')\n",
        "\n",
        "    for sustancia in reactivos:\n",
        "        kc_expresion_denominador *= concentraciones[sustancia]\n",
        "\n",
        "    for sustancia in productos:\n",
        "        kc_expresion_numerador *= concentraciones[sustancia]\n",
        "\n",
        "    ecuacion_Kc = Eq(kc_expresion_numerador / kc_expresion_denominador, symbols('Kc'))\n",
        "    expresion_Kc = solve(ecuacion_Kc, symbols('Kc'))[0]\n",
        "    return expresion_Kc\n",
        "\n",
        "reaccion_quimica = input(\"Ingresa la ecuación balanceada de la reacción química: \")\n",
        "expresion_Kc = obtener_expresion_Kc(reaccion_quimica)\n",
        "\n",
        "print(f\"\\nLa expresión de Kc para la reacción {reaccion_quimica} es: Kc = {expresion_Kc}\")"
      ],
      "metadata": {
        "id": "RKCZujpnmD5c"
      },
      "execution_count": null,
      "outputs": []
    },
    {
      "cell_type": "markdown",
      "source": [
        "# ***Tercera propuesta (Lo hicimos implementando LaTex para poder visualizarlo con corchetes)***"
      ],
      "metadata": {
        "id": "D7jxlc1bkTcp"
      }
    },
    {
      "cell_type": "code",
      "source": [
        "import sympy as sp\n",
        "from IPython.display import display, Math\n",
        "\n",
        "ecuacion_dict = {}\n",
        "num_reactivos = int(input(\"Ingrese el número de reactivos: \"))\n",
        "num_productos = int(input(\"Ingrese el número de productos: \"))\n",
        "\n",
        "for i in range(num_reactivos):\n",
        "    coef = input(\"Ingrese el coeficiente para el reactivo %d: \" % (i + 1))\n",
        "    sustancia = input(\"Ingrese la sustancia para el reactivo %d: \" % (i + 1))\n",
        "    ecuacion_dict[sustancia] = coef\n",
        "\n",
        "for i in range(num_productos):\n",
        "    coef = input(\"Ingrese el coeficiente para el producto %d: \" % (i + 1))\n",
        "    sustancia = input(\"Ingrese la sustancia para el producto %d: \" % (i + 1))\n",
        "    ecuacion_dict[sustancia] = coef\n",
        "\n",
        "ecuacion_Kc = []\n",
        "\n",
        "for sustancia, coef in ecuacion_dict.items():\n",
        "    if \"->\" in sustancia:\n",
        "        continue\n",
        "    elif \"+\" in sustancia:\n",
        "        sustancia = sustancia.replace(\"+\", \"\")\n",
        "\n",
        "    sustancia = sp.sympify(sustancia)\n",
        "    coef = sp.sympify(coef)\n",
        "\n",
        "    ecuacion_Kc.append(\"[%s]^%s\" % (sustancia, coef))\n",
        "\n",
        "reactantes = ecuacion_Kc[num_reactivos:]\n",
        "productos = ecuacion_Kc[:num_reactivos]\n",
        "latex_Kc = \"Kc = \\\\frac{%s}{%s}\" % (\" \\\\cdot \".join(reactantes), \" \\\\cdot \".join(productos))\n",
        "display(Math(latex_Kc))"
      ],
      "metadata": {
        "id": "IjLjQTBskTwF"
      },
      "execution_count": null,
      "outputs": []
    }
  ]
}