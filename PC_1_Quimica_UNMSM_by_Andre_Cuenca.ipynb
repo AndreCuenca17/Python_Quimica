{
  "nbformat": 4,
  "nbformat_minor": 0,
  "metadata": {
    "colab": {
      "provenance": [],
      "include_colab_link": true
    },
    "kernelspec": {
      "name": "python3",
      "display_name": "Python 3"
    },
    "language_info": {
      "name": "python"
    },
    "widgets": {
      "application/vnd.jupyter.widget-state+json": {
        "40c1d8f73d984fc1b98686e98670d8a7": {
          "model_module": "faerun-notebook",
          "model_name": "SmilesDrawerModel",
          "model_module_version": "^0.1.5",
          "state": {
            "_dom_classes": [],
            "_model_module": "faerun-notebook",
            "_model_module_version": "^0.1.5",
            "_model_name": "SmilesDrawerModel",
            "_view_count": null,
            "_view_module": "faerun-notebook",
            "_view_module_version": "^0.1.5",
            "_view_name": "SmilesDrawerView",
            "background": "#1e1e1e",
            "border": true,
            "layout": "IPY_MODEL_89fdb561bd4e48e3b8b8f937d0feeb08",
            "options": {
              "scale": 1.25
            },
            "output": "svg",
            "theme": "dark",
            "value": [
              [
                "Rxn",
                "C(C1C(C(C(C(O1)O)O)O)O)O.O=O>>C(=O)=O.O"
              ]
            ]
          }
        },
        "89fdb561bd4e48e3b8b8f937d0feeb08": {
          "model_module": "@jupyter-widgets/base",
          "model_name": "LayoutModel",
          "model_module_version": "1.2.0",
          "state": {
            "_model_module": "@jupyter-widgets/base",
            "_model_module_version": "1.2.0",
            "_model_name": "LayoutModel",
            "_view_count": null,
            "_view_module": "@jupyter-widgets/base",
            "_view_module_version": "1.2.0",
            "_view_name": "LayoutView",
            "align_content": null,
            "align_items": null,
            "align_self": null,
            "border": null,
            "bottom": null,
            "display": null,
            "flex": null,
            "flex_flow": null,
            "grid_area": null,
            "grid_auto_columns": null,
            "grid_auto_flow": null,
            "grid_auto_rows": null,
            "grid_column": null,
            "grid_gap": null,
            "grid_row": null,
            "grid_template_areas": null,
            "grid_template_columns": null,
            "grid_template_rows": null,
            "height": null,
            "justify_content": null,
            "justify_items": null,
            "left": null,
            "margin": null,
            "max_height": null,
            "max_width": null,
            "min_height": null,
            "min_width": null,
            "object_fit": null,
            "object_position": null,
            "order": null,
            "overflow": null,
            "overflow_x": null,
            "overflow_y": null,
            "padding": null,
            "right": null,
            "top": null,
            "visibility": null,
            "width": null
          }
        }
      }
    }
  },
  "cells": [
    {
      "cell_type": "markdown",
      "metadata": {
        "id": "view-in-github",
        "colab_type": "text"
      },
      "source": [
        "<a href=\"https://colab.research.google.com/github/AndreCuenca17/Python_Quimica/blob/main/PC_1_Quimica_UNMSM_by_Andre_Cuenca.ipynb\" target=\"_parent\"><img src=\"https://colab.research.google.com/assets/colab-badge.svg\" alt=\"Open In Colab\"/></a>"
      ]
    },
    {
      "cell_type": "markdown",
      "source": [
        "$$\\Large \\textit{UNMSM | Química}$$\n",
        "$$\\large \\textbf{PC Nº1 | Materia y clasificación}$$\n",
        "\n",
        "_Profesor: Jesus Alvarado Huayhuaz_"
      ],
      "metadata": {
        "id": "sDJAjbaQOj4x"
      }
    },
    {
      "cell_type": "markdown",
      "source": [
        "Todas las indicaciones para la presentación de la práctica son explicadas en clase y brindadas en el material de enunciado de preguntas en formato PDF."
      ],
      "metadata": {
        "id": "_DsTzWLoP7Fy"
      }
    },
    {
      "cell_type": "markdown",
      "source": [
        "## Pregunta 1: Sobre el ABC de python (4 puntos)"
      ],
      "metadata": {
        "id": "obD7c2igOD6t"
      }
    },
    {
      "cell_type": "markdown",
      "source": [
        "Durante la semana de revisión del material \"ABC de python\", reflexiona sobre qué conceptos aprendiste con claridad y cuáles consideras los más desafiantes. A continuación resuelve los siguiente ejercicios, puedes ayudarte del material en http://bit.ly/3YKICSZ."
      ],
      "metadata": {
        "id": "emt93S7dL7QH"
      }
    },
    {
      "cell_type": "code",
      "source": [
        "# Imprime la versión de python que usas y las palabras reservadas de python para esa versión."
      ],
      "metadata": {
        "id": "6mJvqMN0LTU8"
      },
      "execution_count": null,
      "outputs": []
    },
    {
      "cell_type": "code",
      "source": [
        "!python --version"
      ],
      "metadata": {
        "id": "E7OQ9ije0NWl",
        "outputId": "19461523-b386-47f0-b24c-771a66d82652",
        "colab": {
          "base_uri": "https://localhost:8080/"
        }
      },
      "execution_count": null,
      "outputs": [
        {
          "output_type": "stream",
          "name": "stdout",
          "text": [
            "Python 3.10.12\n"
          ]
        }
      ]
    },
    {
      "cell_type": "code",
      "source": [
        "help(\"keywords\")"
      ],
      "metadata": {
        "id": "nf58kNlUQtIV",
        "outputId": "3b590fd6-3baa-4888-b44a-91d132971023",
        "colab": {
          "base_uri": "https://localhost:8080/"
        }
      },
      "execution_count": null,
      "outputs": [
        {
          "output_type": "stream",
          "name": "stdout",
          "text": [
            "\n",
            "Here is a list of the Python keywords.  Enter any keyword to get more help.\n",
            "\n",
            "False               class               from                or\n",
            "None                continue            global              pass\n",
            "True                def                 if                  raise\n",
            "and                 del                 import              return\n",
            "as                  elif                in                  try\n",
            "assert              else                is                  while\n",
            "async               except              lambda              with\n",
            "await               finally             nonlocal            yield\n",
            "break               for                 not                 \n",
            "\n"
          ]
        }
      ]
    },
    {
      "cell_type": "code",
      "source": [
        "# Crea una matriz de 3x3 e imprime la suma de los elementos en su diagonal (traza)."
      ],
      "metadata": {
        "id": "MxDzGypdLTXh"
      },
      "execution_count": null,
      "outputs": []
    },
    {
      "cell_type": "code",
      "source": [
        "matriz = [[1,2,3],[4,5,6],[7,8,9]]\n",
        "suma=0\n",
        "for i in range(len(matriz)):\n",
        "  suma += matriz[i][i]\n",
        "print(f\"La traza de la matriz es: {suma}\")"
      ],
      "metadata": {
        "id": "V5mUjqOk0i8N",
        "outputId": "3dc53c73-9ffb-4ee3-fb05-e427f07a0dc5",
        "colab": {
          "base_uri": "https://localhost:8080/"
        }
      },
      "execution_count": null,
      "outputs": [
        {
          "output_type": "stream",
          "name": "stdout",
          "text": [
            "La traza de la matriz es: 15\n"
          ]
        }
      ]
    },
    {
      "cell_type": "code",
      "source": [
        "# Guarda como variable la masa atómica de los elementos C, H y O, e imprime la masa molecular del etanol."
      ],
      "metadata": {
        "id": "MyhNX7JmLTSe"
      },
      "execution_count": null,
      "outputs": []
    },
    {
      "cell_type": "code",
      "source": [
        "masa_carbono = 12.0107\n",
        "masa_hidrogeno = 1.00784\n",
        "masa_oxigeno = 15.99903\n",
        "\n",
        "masa_etanol= masa_carbono*2 + masa_hidrogeno*6 + masa_oxigeno\n",
        "print(f\"La masa molecular del etanol es: {masa_etanol}\")"
      ],
      "metadata": {
        "id": "ws7sbWTmPMWO",
        "outputId": "8446215d-a82e-4252-d1cd-acdc0898d175",
        "colab": {
          "base_uri": "https://localhost:8080/"
        }
      },
      "execution_count": null,
      "outputs": [
        {
          "output_type": "stream",
          "name": "stdout",
          "text": [
            "La masa molecular del etanol es: 46.06747\n"
          ]
        }
      ]
    },
    {
      "cell_type": "code",
      "source": [
        "# Busca la temperatura de fusión en Celsius de 5 metales y guárdalos en una lista. Imprime las temperaturas en Kelvin"
      ],
      "metadata": {
        "id": "NCOnJ0FwgLLc"
      },
      "execution_count": null,
      "outputs": []
    },
    {
      "cell_type": "code",
      "source": [
        "elementos=['Oro(Au)','Estaño(Sn)','Hierro(Fe)','Tungsteno(W)','Plata(Ag)']\n",
        "temp_celsius=[1064,232,1538,3422,962]\n",
        "\n",
        "for i,j in zip(elementos,temp_celsius):\n",
        "  temp_kelvin=j+273\n",
        "  print(f\"{i} = {temp_kelvin}°k\")\n"
      ],
      "metadata": {
        "id": "plx38IuhRLJA",
        "outputId": "425c7e07-9c3c-4f66-a90c-ec42424ade47",
        "colab": {
          "base_uri": "https://localhost:8080/"
        }
      },
      "execution_count": null,
      "outputs": [
        {
          "output_type": "stream",
          "name": "stdout",
          "text": [
            "Oro(Au) = 1337°k\n",
            "Estaño(Sn) = 505°k\n",
            "Hierro(Fe) = 1811°k\n",
            "Tungsteno(W) = 3695°k\n",
            "Plata(Ag) = 1235°k\n"
          ]
        }
      ]
    },
    {
      "cell_type": "markdown",
      "source": [
        "## Pregunta 2: Operaciones (4 puntos)"
      ],
      "metadata": {
        "id": "epzOadagLfPi"
      }
    },
    {
      "cell_type": "markdown",
      "source": [
        "Escribe un programa que lea repetidamente elementos químicos en español hasta que el usuario introduzca “fin”. Una vez se haya introducido “fin”, muestra por pantalla (o sea imprime) el total de elementos ingresados. Si el usuario introduce cualquier otra cosa que no sea un elemento químico, detecta su fallo usando try y except, muestra un mensaje de error y pasa al siguiente elemento."
      ],
      "metadata": {
        "id": "MbAEOGPsjOWZ"
      }
    },
    {
      "cell_type": "code",
      "source": [
        "lista_elementos=[\n",
        "\"hidrógeno\", \"helio\", \"litio\", \"berilio\", \"boro\", \"carbono\", \"nitrógeno\", \"oxígeno\", \"flúor\", \"neón\",\n",
        "\"sodio\", \"magnesio\", \"aluminio\", \"silicio\", \"fósforo\", \"azufre\", \"cloro\", \"argón\", \"potasio\", \"calcio\",\n",
        "\"escandio\", \"titanio\", \"vanadio\", \"cromo\", \"manganeso\", \"hierro\", \"cobalto\", \"níquel\", \"cobre\", \"zinc\",\n",
        "\"galio\", \"germanio\", \"arsénico\", \"selenio\", \"bromo\", \"kriptón\", \"rubidio\", \"estroncio\", \"itrio\", \"circonio\",\n",
        "\"niobio\", \"molibdeno\", \"tecnecio\", \"rutenio\", \"rodio\", \"paladio\", \"plata\", \"cadmio\", \"indio\", \"estaño\",\n",
        "\"antimonio\", \"telurio\", \"yodo\", \"xenón\", \"cesio\", \"bario\", \"lantano\", \"cerio\", \"praseodimio\", \"neodimio\",\n",
        "\"prometio\", \"samario\", \"europio\", \"gadolinio\", \"terbio\", \"disprosio\", \"holmio\", \"erbio\", \"tulio\", \"iterbio\",\n",
        "\"lutecio\", \"hafnio\", \"tántalo\", \"wolframio\", \"renio\", \"osmio\", \"iridio\", \"platino\", \"oro\", \"mercurio\",\n",
        "\"talio\", \"plomo\", \"bismuto\", \"polonio\", \"astato\", \"radón\", \"francio\", \"radio\", \"actinio\", \"torio\",\n",
        "\"protactinio\", \"uranio\", \"neptunio\", \"plutonio\", \"americio\", \"curio\", \"berkelio\", \"californio\", \"einstenio\",\n",
        "\"fermio\", \"mendelevio\", \"nobelio\", \"lawrencio\", \"rutherfordio\", \"dubnio\", \"seaborgio\", \"bohrio\",\n",
        "\"hassio\", \"meitnerio\", \"darmstadtio\", \"roentgenio\", \"copernicio\", \"nihonio\", \"flerovio\", \"moscovio\",\n",
        "\"livermorio\", \"tennessino\", \"oganesón\"]\n",
        "cant_elementos = 0\n",
        "elemento = \"\"\n",
        "while elemento != \"fin\":\n",
        "    try:\n",
        "        elemento = input(\"Introduce correctamente un elemento químico: \").lower()\n",
        "        if elemento == \"fin\":\n",
        "          break\n",
        "        if elemento in lista_elementos:\n",
        "            cant_elementos += 1\n",
        "        else:\n",
        "          raise ValueError\n",
        "\n",
        "    except ValueError:\n",
        "        print(\"Error, no es un elemento químico...\")\n",
        "\n",
        "print(f\"El total de elementos ingresados es: {cant_elementos}\")"
      ],
      "metadata": {
        "id": "gJGX0p5QLetj"
      },
      "execution_count": null,
      "outputs": []
    },
    {
      "cell_type": "markdown",
      "source": [
        "# Pregunta 3: Conservación de la masa (4 puntos)"
      ],
      "metadata": {
        "id": "8gxSHpD3LZsh"
      }
    },
    {
      "cell_type": "markdown",
      "source": [
        "### Código necesario para generar la imagen"
      ],
      "metadata": {
        "id": "mMV9c3hDl7KL"
      }
    },
    {
      "cell_type": "code",
      "source": [
        "!pip install faerun-notebook==0.1.5b0\n",
        "\n",
        "import ipywidgets as widgets\n",
        "from faerun_notebook import SmilesDrawer\n",
        "from google.colab import output\n",
        "output.enable_custom_widget_manager()"
      ],
      "metadata": {
        "id": "JgF8Ohtbky65"
      },
      "execution_count": null,
      "outputs": []
    },
    {
      "cell_type": "markdown",
      "source": [
        "### Reacción química"
      ],
      "metadata": {
        "id": "5sLC10D_oSrV"
      }
    },
    {
      "cell_type": "markdown",
      "source": [
        "Demuestra cómo se cumple la conservación de la masa en la siguiente reacción química. Sugerencia: hacer un balance estequiométrico y luego emplear la masa molecular de reactivos y productos."
      ],
      "metadata": {
        "id": "OVRhAzaVmD86"
      }
    },
    {
      "cell_type": "code",
      "source": [
        "SmilesDrawer(value=[(\"Rxn\", \"C(C1C(C(C(C(O1)O)O)O)O)O.O=O>>C(=O)=O.O\")], theme='dark', background=\"#1e1e1e\", options={'scale': 1.25})"
      ],
      "metadata": {
        "colab": {
          "base_uri": "https://localhost:8080/",
          "height": 308,
          "referenced_widgets": [
            "40c1d8f73d984fc1b98686e98670d8a7",
            "89fdb561bd4e48e3b8b8f937d0feeb08"
          ]
        },
        "id": "CC0mAXWmnYyN",
        "outputId": "f54301b4-bfb6-4da6-e2b3-59858eb49d81"
      },
      "execution_count": null,
      "outputs": [
        {
          "output_type": "display_data",
          "data": {
            "text/plain": [
              "SmilesDrawer(background='#1e1e1e', options={'scale': 1.25}, theme='dark', value=[('Rxn', 'C(C1C(C(C(C(O1)O)O)O…"
            ],
            "application/vnd.jupyter.widget-view+json": {
              "version_major": 2,
              "version_minor": 0,
              "model_id": "40c1d8f73d984fc1b98686e98670d8a7"
            }
          },
          "metadata": {
            "application/vnd.jupyter.widget-view+json": {
              "colab": {
                "custom_widget_manager": {
                  "url": "https://ssl.gstatic.com/colaboratory-static/widgets/colab-cdn-widget-manager/b3e629b1971e1542/manager.min.js"
                }
              }
            }
          }
        }
      ]
    },
    {
      "cell_type": "code",
      "source": [
        "!pip install rdkit"
      ],
      "metadata": {
        "id": "uvfM_w9PqLn4"
      },
      "execution_count": null,
      "outputs": []
    },
    {
      "cell_type": "code",
      "source": [
        "from rdkit import Chem\n",
        "from rdkit.Chem import Descriptors\n",
        "\n",
        "mw_talosa = Descriptors.MolWt(Chem.MolFromSmiles('C(C1C(C(C(C(O1)O)O)O)O)O'))\n",
        "mw_dioxigeno = Descriptors.MolWt(Chem.MolFromSmiles('O=O'))\n",
        "mw_dioxidocarbono = Descriptors.MolWt(Chem.MolFromSmiles('C(=O)=O'))\n",
        "mw_agua = Descriptors.MolWt(Chem.MolFromSmiles('O'))\n",
        "\n",
        "mw_reactivos = mw_talosa + 6 * mw_dioxigeno\n",
        "mw_productos = 6 * mw_dioxidocarbono + 6 * mw_agua\n",
        "\n",
        "if mw_reactivos == mw_productos:\n",
        "  print(f\"Sí se cumple la ley de la conservación de la masa\")\n",
        "else:\n",
        "  print(f\"No se cumple la ley de la conservación de la masa\")\n"
      ],
      "metadata": {
        "id": "YNOaMGD9r2g8"
      },
      "execution_count": null,
      "outputs": []
    },
    {
      "cell_type": "markdown",
      "source": [
        "## Pregunta 4: Notación científica (4 puntos)"
      ],
      "metadata": {
        "id": "Rh-nAUiKhJNB"
      }
    },
    {
      "cell_type": "markdown",
      "source": [
        "Imprime las siguientes operaciones según la notación científica:\n",
        "\n",
        "(1) $1.321 \\times 10^{-4} + 8.5 \\times 10^{-2}$\n",
        "\n",
        "(2) $1.71 \\times 10^{3} - 2.01 \\times 10^{2}\\$\n",
        "\n",
        "(3) $(7.4 \\times 10^5)(7.2 \\times 10^4)$\n",
        "\n",
        "(4) $(7.4 \\times 10^5)/(7.2 \\times 10^4)$"
      ],
      "metadata": {
        "id": "NIkI45Xdqqnt"
      }
    },
    {
      "cell_type": "code",
      "source": [
        "a = (1.321 * 10**-4) + (8.5 * 10**-2)\n",
        "b = (1.71 * 10**3) - (2.01 * 10**2)\n",
        "c = (7.4 * 10**5) * (7.2 * 10**4)\n",
        "d = (7.4 * 10**5) / (7.2 * 10**4)\n",
        "\n",
        "print(f\"El número {a} escrito en notación científica es: 8.513 x 10⁻²\")\n",
        "print(f\"El número {b} escrito en notación científica es: 1.509 x 10³\")\n",
        "print(f\"El número {c} escrito en notación científica es: 5.3 x 10¹⁰\")\n",
        "print(f\"El número {d} escrito en notación científica es: 1.0 x 10\")"
      ],
      "metadata": {
        "colab": {
          "base_uri": "https://localhost:8080/"
        },
        "id": "xfUwj51-A8RQ",
        "outputId": "59216100-3e35-4096-9605-d91ed2b6ff9e"
      },
      "execution_count": null,
      "outputs": [
        {
          "output_type": "stream",
          "name": "stdout",
          "text": [
            "El número 0.0851321 escrito en notación científica es: 8.513 x 10⁻²\n",
            "El número 1509.0 escrito en notación científica es: 1.509 x 10³\n",
            "El número 53280000000.0 escrito en notación científica es: 5.3 x 10¹⁰\n",
            "El número 10.277777777777779 escrito en notación científica es: 1.0 x 10\n"
          ]
        }
      ]
    },
    {
      "cell_type": "markdown",
      "source": [
        "## Pregunta 5: Método científico (4 puntos)"
      ],
      "metadata": {
        "id": "CuzCcXJghR14"
      }
    },
    {
      "cell_type": "markdown",
      "source": [
        "Artículo: https://bit.ly/3surZ1W\n",
        "Leer el siguiente artículo y explica cómo es aplicado el método científico. Emplea como máximo 300 palabras."
      ],
      "metadata": {
        "id": "WngRSR-Rhmx1"
      }
    },
    {
      "cell_type": "markdown",
      "source": [
        "**Observación e interrogante inicia**l: El artículo comienza con la observación de una afirmación inicial de que LK-99 podría ser un superconductor a temperatura ambiente. Esto plantea la pregunta de si realmente es un superconductor.\n",
        "\n",
        "**Investigación y revisión bibliográfica** : Se menciona que un equipo de investigadores en Seúl afirmó que LK-99 es un superconductor. Esto despierta la atención de otros investigadores que intentan replicar los resultados y comprender el fenómeno.\n",
        "\n",
        "**Hipótesis y predicciones**: Dado que los resultados iniciales eran cuestionables, otros investigadores formulan hipótesis alternativas para explicar los fenómenos observados, como la levitación y la resistividad eléctrica.\n",
        "\n",
        "**Experimentación y recopilación de datos**: Diversos equipos realizan experimentos para replicar los resultados iniciales y obtener datos concretos. Utilizan técnicas como la medición de resistividad y la observación de la levitación de muestras.\n",
        "\n",
        "**Análisis de datos y resultados**: Los equipos de investigación analizan los datos recopilados para comprender las propiedades y el comportamiento de LK-99. Se comparan los resultados experimentales con las predicciones teóricas y las hipótesis iniciales.\n",
        "\n",
        "**Conclusiones y discusión**: Los investigadores comparan y contrastan los resultados de los experimentos con las hipótesis planteadas. Se discuten las implicaciones de los resultados y si respaldan o refutan la afirmación inicial de que LK-99 es un superconductor y se conluye que es un material con muy alta resistividad.\n",
        "\n",
        "**Comunicación y revisión por pares**: Los investigadores presentan sus resultados en publicaciones científicas y preimpresiones para la revisión por parte de otros científicos. Se fomenta el diálogo y el debate científico.\n",
        "\n",
        "**Nuevas hipótesis y experimentos**: A medida que surgen nuevas explicaciones y resultados, los científicos ajustan y refinan sus hipótesis y enfoques experimentales en función de la evidencia acumulada.\n",
        "\n",
        "**Validación y confirmación**: A través de la repetición independiente de experimentos y la acumulación de datos y evidencia, se llega a conclusiones más sólidas sobre las propiedades de LK-99. La conclusión es que LK-99 no es un superconductor a temperatura ambiente y que los resultados iniciales fueron causados por impurezas."
      ],
      "metadata": {
        "id": "tRmZnfRlJrXD"
      }
    }
  ]
}