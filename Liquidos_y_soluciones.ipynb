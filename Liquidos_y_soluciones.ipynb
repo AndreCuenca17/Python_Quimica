{
  "nbformat": 4,
  "nbformat_minor": 0,
  "metadata": {
    "colab": {
      "provenance": [],
      "authorship_tag": "ABX9TyOFtbu2BbB/iVU7Dea3UQhA",
      "include_colab_link": true
    },
    "kernelspec": {
      "name": "python3",
      "display_name": "Python 3"
    },
    "language_info": {
      "name": "python"
    }
  },
  "cells": [
    {
      "cell_type": "markdown",
      "metadata": {
        "id": "view-in-github",
        "colab_type": "text"
      },
      "source": [
        "<a href=\"https://colab.research.google.com/github/AndreCuenca17/Python_Quimica/blob/main/Liquidos_y_soluciones.ipynb\" target=\"_parent\"><img src=\"https://colab.research.google.com/assets/colab-badge.svg\" alt=\"Open In Colab\"/></a>"
      ]
    },
    {
      "cell_type": "markdown",
      "source": [
        "# **Fuerzas intermoleculares**"
      ],
      "metadata": {
        "id": "nh5JQ5tnDzTe"
      }
    },
    {
      "cell_type": "markdown",
      "source": [
        "\n",
        "*11.1 Proponga un ejemplo para cada tipo de fuerzas intermoleculares: a) interacción dipolo-dipolo, b) interacción dipolo-dipolo inducido, c) interacción ion-dipolo, d) fuerzas de dispersión, e) fuerzas de van der Waals.*"
      ],
      "metadata": {
        "id": "qN2RgeHlALDX"
      }
    },
    {
      "cell_type": "markdown",
      "source": [
        "a) Fuerza dipolo-dipolo: CH3Cl (cloruro de metilo)\n",
        "Posee esta fuerza al ser una molecula polar y por la diferencia de electronegatividad entre el carbono y el cloro\n",
        "\n",
        "b) Fuerza dipolo-dipolo inducido: O2 (oxígeno)\n",
        "El oxígeno es una molécula no polar, pero puede inducir dipolos temporales en otras moléculas no polares cuando se acercan.\n",
        "\n",
        "c) Fuerza ion-dipolo: NH4+ (ion amonio) en agua.\n",
        "Forman esta fuerza cuando interactuan con moléculas de agua, por sus cargas.\n",
        "\n",
        "d) Fuerzas de dispersión: C6H6 (benceno) Es una molécula no polar que experimenta fuerzas de dispersión y fluctuaciones en su nube de electrones.\n",
        "\n",
        "e) Fuerzas de van der Waals: Ar (Argón)\n",
        "Los átomos de argón experimentan fuerzas de van der Waals debido a las fluctuaciones temporales en la distribución de electrones."
      ],
      "metadata": {
        "id": "7eFofK5FC5r8"
      }
    },
    {
      "cell_type": "markdown",
      "source": [
        "*11.2 Explique el término \"polarizabilidad\". ¿Qué clase de moléculas tienden a ser muy polarizables? ¿Qué relación existe entre la polarizabilidad y las fuerzas intermoleculares?*"
      ],
      "metadata": {
        "id": "myVD5mEKGNXU"
      }
    },
    {
      "cell_type": "markdown",
      "source": [
        "La polarizabilidad mide la capacidad de una molécula para deformar su distribución de electrones en respuesta a un campo eléctrico, por ello las moléculas más polarizables son aquellas de gran tamaño que poseen una gran cantidad de electrones, y esto aumenta la intensidad de las fuerzas de disperción entre moléculas.\n",
        "\n",
        "\n",
        "\n"
      ],
      "metadata": {
        "id": "OQYxzhjwGqmi"
      }
    },
    {
      "cell_type": "markdown",
      "source": [
        "*11.6 ¿Cuáles elementos pueden participar en los enlaces de hidrógeno? ¿Por qué el hidrógeno es único en este tipo de interacción?*\n",
        "\n"
      ],
      "metadata": {
        "id": "2BPbTgogHniW"
      }
    },
    {
      "cell_type": "markdown",
      "source": [
        "Este enlace se puede dar en la unión de hidrógeno con nitrógeno, oxígeno o flúor, por su alta electronegatividad.\n",
        "Es único por su pequeño tamaño y su alta densidad de carga positiva, lo que genera su alta polaridad, que lo lleva a establecer interaccion fuertes con átomos de elementos electronegativos"
      ],
      "metadata": {
        "id": "oJ4j3Q1uL4bT"
      }
    },
    {
      "cell_type": "markdown",
      "source": [
        "\n",
        "*11.7 Los compuestos Br₂ y ICI tienen el mismo número de electrones, pero el Br₂ se funde a -7.2°C y el ICI se funde a 27.2°C. ¿Por qué?*"
      ],
      "metadata": {
        "id": "oIx7j7CfOGxu"
      }
    },
    {
      "cell_type": "markdown",
      "source": [
        "La diferencia entre las temperaturas es por las fuerzas intermoleculares, Br₂ es no polar por ello tiene fuerzas de dispersion más débiles, a diferencia de ICl que es una molécula polar y experimenta fuerzas dipolo-dipolo más fuertes, por lo que necesita más energía para lograr fundirse.\n"
      ],
      "metadata": {
        "id": "0-EjFnAZPO-X"
      }
    },
    {
      "cell_type": "markdown",
      "source": [
        "*11.10 Mencione los tipos de fuerzas intermoleculares que hay entre las moléculas (o unidades básicas) en cada una de las siguientes especies: a) benceno (CH), b) CH,CI, c) PF. d) NaCl, e) CS2.*"
      ],
      "metadata": {
        "id": "r3-BakQGQJR-"
      }
    },
    {
      "cell_type": "markdown",
      "source": [
        "a) C6H6: Fuerzas de dispersión de London\n",
        "\n",
        "b) CH3Cl: Fuerzas de dispersión de London y fuerzas dipolo-dipolo\n",
        "\n",
        "c) PF3: Fuerzas de dispersión de London y fuerzas dipolo-dipolo.\n",
        "\n",
        "d) NaCl: Fuerzas iónicas.\n",
        "\n",
        "e) CS2: Fuerzas de dispersión de London"
      ],
      "metadata": {
        "id": "ZfR5YIZUQqpG"
      }
    },
    {
      "cell_type": "markdown",
      "source": [
        "# **Propiedades de los líquidos**"
      ],
      "metadata": {
        "id": "vpwzVI2iELP-"
      }
    },
    {
      "cell_type": "markdown",
      "source": [
        "*11.21 ¿Por qué los líquidos, a diferencia de los gases, son prácticamente incompresibles?*"
      ],
      "metadata": {
        "id": "26q7-zvIRQW9"
      }
    },
    {
      "cell_type": "markdown",
      "source": [
        "Las moléculas en un líquido están más cerca unas de otras, están sujetas a fuerzas intermoleculares significativas y tienen muy poco espacio vacío, lo que hace que los líquidos sean prácticamente incompresibles en comparación con los gases, donde las partículas están más separadas y tienen una energía cinética mucho mayor."
      ],
      "metadata": {
        "id": "eV5Lia1wR1B5"
      }
    },
    {
      "cell_type": "markdown",
      "source": [
        "*11.22 ¿Qué es la tensión superficial? ¿Qué relación existe entre esta propiedad y las fuerzas intermoleculares? ¿Cómo cambia la tensión superficial con la temperatura?*"
      ],
      "metadata": {
        "id": "vukAs-NkR2sY"
      }
    },
    {
      "cell_type": "markdown",
      "source": [
        "Es la resistencia de un líquido a que su superficie se “rompa”, ya que es la fuerza que actúa por unidad de logitud en la superficie libre de un líquido y que tiende a contrar dicha superficie; tambien se define como la cantidad de energía necesaria para aumentar su superficie por unidad de área."
      ],
      "metadata": {
        "id": "jDS5EhtcR54J"
      }
    },
    {
      "cell_type": "markdown",
      "source": [
        "*11.27 ¿Qué es la viscosidad? ¿Cuál es la relación entre las fuerzas intermoleculares y la viscosidad?*"
      ],
      "metadata": {
        "id": "8I8NI5kqR86v"
      }
    },
    {
      "cell_type": "markdown",
      "source": [
        "La viscosidad es la resistencia interna que un líquido ofrece para fluir y generar movimiento.\n",
        "\n",
        "Mientras más intensas son las fuerzas intermoleculares generan más fricción interna lo que resulta en una menor fluidez, por lo tanto una mayor viscosidad."
      ],
      "metadata": {
        "id": "LWkO-yu3SBWn"
      }
    },
    {
      "cell_type": "markdown",
      "source": [
        "*11.28 ¿Por qué la viscosidad de un líquido disminuye con el aumento en su temperatura?*"
      ],
      "metadata": {
        "id": "y7h_4pRjSDZH"
      }
    },
    {
      "cell_type": "markdown",
      "source": [
        "Al aumentar la temperatura de las moléculas, estas se agitan más y hace que las fuerzas intermoleculares se debiliten, por lo que la viscosidad disminuye."
      ],
      "metadata": {
        "id": "NBg33UG1SQCT"
      }
    },
    {
      "cell_type": "markdown",
      "source": [
        "# **Soluciones**"
      ],
      "metadata": {
        "id": "-c8402ybEPvQ"
      }
    },
    {
      "cell_type": "markdown",
      "source": [
        "*12.8 Describa los factores que afectan la solubilidad de un sólido en un líquido. ¿Qué significa decir que dos líquidos son miscibles?*"
      ],
      "metadata": {
        "id": "UO0u9MCuSTvm"
      }
    },
    {
      "cell_type": "markdown",
      "source": [
        "*   Naturaleza: Depende de la polaridad y estructura de soluto y disolvente, disolviendose polares con polares y no polares con no polares.\n",
        "\n",
        "*   Temperatura: Aumenta junto con la temperatura debido al aumento de la energía cinética.\n",
        "\n",
        "Dos líquidos son miscibles cuando pueden mezclarse en cualquier proporción y formar una solución homogénea, mientras que son inmiscibles cuando no se mezclan y forman capas separadas.\n"
      ],
      "metadata": {
        "id": "S7jZKhBkSnGL"
      }
    },
    {
      "cell_type": "markdown",
      "source": [
        "*12.3 Describa brevemente el proceso de disolución a nivel molecular. Utilice como ejemplo la disolución de un sólido en un líquido.*"
      ],
      "metadata": {
        "id": "9jiJNxR2U68S"
      }
    },
    {
      "cell_type": "markdown",
      "source": [
        "Un ejemplo de disolución a nivel molecular es la forma en que el azúcar (sólido) se disuelve en agua (líquido). Las moléculas de agua rodean y separan las partículas de azúcar, debilitando las fuerzas intermoleculares en el azúcar y permitiendo que se disperse en el agua, creando una solución de azúcar en agua.\n",
        "\n",
        "\n",
        "\n",
        "\n"
      ],
      "metadata": {
        "id": "zzqJif3IU_F9"
      }
    },
    {
      "cell_type": "markdown",
      "source": [
        "*12.7 Explique por qué el proceso de disolución invariablemente conduce a un aumento en el desorden.*"
      ],
      "metadata": {
        "id": "zMpUo69BWCSw"
      }
    },
    {
      "cell_type": "markdown",
      "source": [
        "\n",
        "La disolución siempre aumenta el desorden debido a la Segunda Ley de la Termodinámica, ya que las partículas del soluto pasan de una disposición ordenada en el sólido a una distribución más aleatoria en el líquido, lo que aumenta la entropía del sistema."
      ],
      "metadata": {
        "id": "FDnma_dxXSOj"
      }
    },
    {
      "cell_type": "markdown",
      "source": [
        "*12.10 Explique por qué el etanol (C2H5OH) no es soluble en ciclohexano (CH12).*\n",
        "\n"
      ],
      "metadata": {
        "id": "-DQO31bQXYsS"
      }
    },
    {
      "cell_type": "markdown",
      "source": [
        "El etanol (C2H5OH) no es soluble en ciclohexano (C6H12) debido a sus diferencias de polaridad. El etanol es una molécula polar, mientras que el ciclohexano es no polar y siguiendo la regla \"lo semejante disuelve a lo semejante\", las sustancias polares no se disuelven eficazmente en sustancias no polares."
      ],
      "metadata": {
        "id": "SXdxIiW-YJ0Z"
      }
    },
    {
      "cell_type": "markdown",
      "source": [
        "# **Unidades de concentración**"
      ],
      "metadata": {
        "id": "gF8GJYuvEWgk"
      }
    },
    {
      "cell_type": "markdown",
      "source": [
        "*12.11 Acomode los siguientes compuestos en orden creciente de solubilidad en agua: O2, LiCl, Br2, metanol (CH,OH).*"
      ],
      "metadata": {
        "id": "K-S3e8apZu4d"
      }
    },
    {
      "cell_type": "markdown",
      "source": [
        "El orden creciente de solubilidad en agua es: Br2 < O2 < CH3OH < LiCl."
      ],
      "metadata": {
        "id": "tha8XBtFZ8Et"
      }
    },
    {
      "cell_type": "markdown",
      "source": [
        "*12.13 Defina los siguientes términos de concentración y espe- cifique sus unidades: \"porcentaje en masa\", \"fracción molar\", \"molaridad\" y \"molalidad\". Compare sus ventajas y sus desventajas.*\n",
        "\n"
      ],
      "metadata": {
        "id": "t3unrYjMbvYG"
      }
    },
    {
      "cell_type": "markdown",
      "source": [
        "**Porcentaje en masa:** Masa del soluto en porcentaje respecto al peso total de la solución (%).\n",
        "\n",
        "**Fracción molar:** La cantidad de sustancia de un componente en relación con la cantidad total de sustancia en una solución (adimensional).\n",
        "\n",
        "**Molaridad:** Moles de soluto por litro de solución (mol/L).\n",
        "\n",
        "**Molalidad:** Moles de soluto por kilogramo de disolvente (mol/kg).\n",
        "\n",
        "Cada medida de concentración tiene sus ventajas y desventajas, y se elige según el contexto y la propiedad que se desee expresar (masa, cantidad de sustancia, volumen, o peso del disolvente). El porcentaje en masa es simple pero limitado. La fracción molar se utiliza para cálculos avanzados. La molaridad es útil en reacciones químicas, y la molalidad es especialmente adecuada para trabajar a diferentes temperaturas y es menos afectada por cambios de temperatura."
      ],
      "metadata": {
        "id": "xIDVb6fQbuBL"
      }
    },
    {
      "cell_type": "markdown",
      "source": [
        "*12.15 Calcule el porcentaje en masa de soluto en cada una de las siguientes disoluciones acuosas: a) 5.50 g de NaBr en 78.2 g de disolución, b) 31.0 g de KCI en 152 g de agua, c) 4.5 g de tolueno en 29 g de benceno.*"
      ],
      "metadata": {
        "id": "HrtacsQSc0U8"
      }
    },
    {
      "cell_type": "code",
      "source": [
        "def calcularPorcentaje(masa_sto, masa_sol):\n",
        "    porcentaje = (masa_sto / masa_sol) * 100\n",
        "    return porcentaje\n",
        "\n",
        "porcentaje_a = calcularPorcentaje(5.50, 78.2)\n",
        "porcentaje_b = calcularPorcentaje(31.0, 152)\n",
        "porcentaje_c = calcularPorcentaje(4.5, 29)\n",
        "\n",
        "print(f\"El porcentaje en masa de NaBr es: {porcentaje_a:.2f} %\")\n",
        "print(f\"El porcentaje en masa de KCl es: {porcentaje_b:.2f} %\")\n",
        "print(f\"El porcentaje en masa de tolueno es: {porcentaje_c:.2f} %\")\n"
      ],
      "metadata": {
        "colab": {
          "base_uri": "https://localhost:8080/"
        },
        "id": "zVShMwRjdzpI",
        "outputId": "9fb9fc91-6dbd-42e9-aee1-931df9cb9edc"
      },
      "execution_count": null,
      "outputs": [
        {
          "output_type": "stream",
          "name": "stdout",
          "text": [
            "El porcentaje en masa de NaBr es: 7.03 %\n",
            "El porcentaje en masa de KCl es: 20.39 %\n",
            "El porcentaje en masa de tolueno es: 15.52 %\n"
          ]
        }
      ]
    },
    {
      "cell_type": "markdown",
      "source": [
        "*12.16 Calcule la cantidad de agua (en gramos) que se debe agregar a: a) 5.00 g de urea (NH2)2CO para preparar una disolución al 16.2% en masa y b) 26.2 g de MgCl2 para preparar una disolución al 1.5% en masa.*"
      ],
      "metadata": {
        "id": "BYpStqdLflpQ"
      }
    },
    {
      "cell_type": "code",
      "source": [
        "def cantidadAgua(masa_sto, porcentaje):\n",
        "    masa_sol = masa_sto / (porcentaje / 100)\n",
        "    masa_agua = masa_sol - masa_sto\n",
        "    return masa_agua\n",
        "\n",
        "print(f\"a)La cantidad de agua que se debe agregar es {cantidadAgua(5, 16.2):.2f} g\")\n",
        "print(f\"b)La cantidad de agua que se debe agregarse debe agregar es {cantidadAgua(26.2, 1.5):.2f} g\")\n"
      ],
      "metadata": {
        "colab": {
          "base_uri": "https://localhost:8080/"
        },
        "id": "0XDd8althC4C",
        "outputId": "369cfacd-21cb-4998-f2c1-9551a833e5ec"
      },
      "execution_count": null,
      "outputs": [
        {
          "output_type": "stream",
          "name": "stdout",
          "text": [
            "a)La cantidad de agua que se debe agregar es 25.86 g\n",
            "b)La cantidad de agua que se debe agregarse debe agregar es 1720.47 g\n"
          ]
        }
      ]
    },
    {
      "cell_type": "markdown",
      "source": [
        "*12.17 Calcule la molalidad de cada una de las siguientes disoluciones: a) 14.3 g de sacarosa (C12H22O₁₁) en 676 g de agua, b) 7.20 moles de etilenglicol (C,H,O,) en 3 546 g de agua.*"
      ],
      "metadata": {
        "id": "cUl0C6AniX1K"
      }
    },
    {
      "cell_type": "code",
      "source": [
        "def calcularMolalidad(moles_sto, masa_ste):\n",
        "    molalidad = moles_sto / masa_ste #tiene que estar en kg\n",
        "    return molalidad\n",
        "\n",
        "masa_molar_a = 12*12 + 1*22 + 16*11  #masa molar sacarosa (C12H22O11)\n",
        "moles_sacarosa = 14.3 / masa_molar_a\n",
        "peso_agua_a = 676 / 1000\n",
        "\n",
        "masa_molar_b = 7.20 #masa molar etilenglicol (C2H6O2)\n",
        "moles_etilenglicol = 7.20\n",
        "peso_agua_b = 3546 / 1000\n",
        "\n",
        "print(f\"a) La molalidad es {calcularMolalidad(moles_sacarosa, peso_agua_a):.4f} mol/kg\")\n",
        "print(f\"b) La molalidad es {calcularMolalidad(moles_etilenglicol, peso_agua_b):.4f} mol/kg\")\n"
      ],
      "metadata": {
        "colab": {
          "base_uri": "https://localhost:8080/"
        },
        "id": "UysSTSzHizTC",
        "outputId": "55bd4027-3224-4f4d-a7af-597378919383"
      },
      "execution_count": null,
      "outputs": [
        {
          "output_type": "stream",
          "name": "stdout",
          "text": [
            "a) La molalidad es 0.0619 mol/kg\n",
            "b) La molalidad es 2.0305 mol/kg\n"
          ]
        }
      ]
    },
    {
      "cell_type": "markdown",
      "source": [
        "*12.18 Calcule la molalidad de cada una de las siguientes disoluciones acuosas: a) disolución de NaCl 2.50 M (densidad de la disolución = 1.08 g/mL), b) disolución de KBr al 48.2% en masa.*"
      ],
      "metadata": {
        "id": "wgwGABW-lDAA"
      }
    },
    {
      "cell_type": "code",
      "source": [
        "def calcularMolalidad(moles_sto, masa_ste):\n",
        "    molalidad = moles_sto / masa_ste\n",
        "    return molalidad\n",
        "\n",
        "moles_nacl = 2.50\n",
        "densidad_a = 1.08\n",
        "densidad_kg_l = densidad_a / 1000\n",
        "masa_agua_kg = 1 / densidad_kg_l\n",
        "\n",
        "porcentaje_b = 48.2\n",
        "porcentaje_b_decimal = porcentaje_b / 100\n",
        "masa_sto_b = porcentaje_b_decimal * masa_agua_kg\n",
        "masa_ste_b = masa_agua_kg - masa_sto_b\n",
        "masa_molar_kbr = 39 + 80\n",
        "moles_kbr_b = masa_sto_b / masa_molar_kbr\n",
        "\n",
        "print(f\"a) La molalidad de la disolución es {calcularMolalidad(moles_nacl, masa_agua_kg):.4f} mol/kg\")\n",
        "print(f\"b) La molalidad de la disolución es {calcularMolalidad(moles_kbr_b, masa_ste_b):.4f} mol/kg\")\n"
      ],
      "metadata": {
        "colab": {
          "base_uri": "https://localhost:8080/"
        },
        "id": "xYQ5qv9UlTiU",
        "outputId": "b159beee-fffd-4683-d74a-438d6cf31968"
      },
      "execution_count": null,
      "outputs": [
        {
          "output_type": "stream",
          "name": "stdout",
          "text": [
            "a) La molalidad de la disolución es 0.0027 mol/kg\n",
            "b) La molalidad de la disolución es 0.0078 mol/kg\n"
          ]
        }
      ]
    },
    {
      "cell_type": "markdown",
      "source": [
        "*12.19 Calcule la molalidad de cada una de las siguientes disoluciones acuosas: a) disolución de azúcar (C12H22O11) 1.22 M (densidad de la disolución = 1.12 g/mL), b) disolución de NaOH 0.87 M (densidad de la disolución 1.04 g/mL), c) disolución de NaHCO3 5.24 M (densidad de la disolución = 1.19 g/mL).*"
      ],
      "metadata": {
        "id": "s0fUhREZlSG_"
      }
    },
    {
      "cell_type": "code",
      "source": [
        "def calcularMolalidad(moles_sto, masa_ste):\n",
        "    molalidad = moles_sto / masa_ste\n",
        "    return molalidad\n",
        "\n",
        "moles_azucar = 1.22\n",
        "densidad_a = 1.12\n",
        "\n",
        "moles_naoh = 0.87\n",
        "densidad_b = 1.04\n",
        "\n",
        "moles_nahco3 = 5.24\n",
        "densidad_c = 1.19\n",
        "\n",
        "densidad_a_kg_L = densidad_a / 1000\n",
        "densidad_b_kg_L = densidad_b / 1000\n",
        "densidad_c_kg_L = densidad_c / 1000\n",
        "\n",
        "masa_ste_a_kg = 1 / densidad_a_kg_L\n",
        "masa_ste_b_kg = 1 / densidad_b_kg_L\n",
        "masa_ste_c_kg = 1 / densidad_c_kg_L\n",
        "\n",
        "print(f\"a) La molalidad de la disolución de azúcar es {calcularMolalidad(moles_azucar, masa_ste_a_kg):.4f} mol/kg\")\n",
        "print(f\"b) La molalidad de la disolución de NaOH es {calcularMolalidad(moles_naoh, masa_ste_b_kg):.4f} mol/kg\")\n",
        "print(f\"c) La molalidad de la disolución de NaHCO3 es {calcularMolalidad(moles_nahco3, masa_ste_c_kg):.4f} mol/kg\")\n"
      ],
      "metadata": {
        "colab": {
          "base_uri": "https://localhost:8080/"
        },
        "id": "XxM-TTgcq0P2",
        "outputId": "28eabc53-2524-4e95-ebfd-9cc43bd968b4"
      },
      "execution_count": null,
      "outputs": [
        {
          "output_type": "stream",
          "name": "stdout",
          "text": [
            "a) La molalidad de la disolución de azúcar es 0.0014 mol/kg\n",
            "b) La molalidad de la disolución de NaOH es 0.0009 mol/kg\n",
            "c) La molalidad de la disolución de NaHCO3 es 0.0062 mol/kg\n"
          ]
        }
      ]
    },
    {
      "cell_type": "markdown",
      "source": [
        "# **Efecto de la temperatura en la solubilidad**"
      ],
      "metadata": {
        "id": "a1X0nPgitJPD"
      }
    },
    {
      "cell_type": "markdown",
      "source": [
        "*12.27 Una muestra de 3.20 g de una sal se disuelve en 9.10 g de agua para formar una disolución saturada a 25°C. ¿Cuál es la solubilidad (en g de sal/100 g de H₂O) de la sal?*"
      ],
      "metadata": {
        "id": "K10Omy9vtKah"
      }
    },
    {
      "cell_type": "code",
      "source": [
        "masa_sto = 3.20\n",
        "masa_ste = 9.10\n",
        "solubilidad = (masa_sto / masa_ste) * 100\n",
        "print(f\"La solubilidad de la sal es: {solubilidad:.2f} g\")"
      ],
      "metadata": {
        "colab": {
          "base_uri": "https://localhost:8080/"
        },
        "id": "LER0iknQtO6D",
        "outputId": "e755ef8a-352a-4320-9f4e-9504452b6850"
      },
      "execution_count": null,
      "outputs": [
        {
          "output_type": "stream",
          "name": "stdout",
          "text": [
            "La solubilidad de la sal es: 35.16 g\n"
          ]
        }
      ]
    }
  ]
}