{
  "nbformat": 4,
  "nbformat_minor": 0,
  "metadata": {
    "colab": {
      "provenance": [],
      "include_colab_link": true
    },
    "kernelspec": {
      "name": "python3",
      "display_name": "Python 3"
    },
    "language_info": {
      "name": "python"
    }
  },
  "cells": [
    {
      "cell_type": "markdown",
      "metadata": {
        "id": "view-in-github",
        "colab_type": "text"
      },
      "source": [
        "<a href=\"https://colab.research.google.com/github/AndreCuenca17/Python_Quimica/blob/main/PracticaDirigidaEstadoGaseoso.ipynb\" target=\"_parent\"><img src=\"https://colab.research.google.com/assets/colab-badge.svg\" alt=\"Open In Colab\"/></a>"
      ]
    },
    {
      "cell_type": "markdown",
      "source": [
        "# **1. El estado Gaseoso: generalidades**"
      ],
      "metadata": {
        "id": "Odcaf2OpodyP"
      }
    },
    {
      "cell_type": "markdown",
      "source": [
        "1.1. Calcula el volumen ocupado por 2 moles de gas a una presión de 3 atmósferas y una\n",
        "temperatura de 300 K."
      ],
      "metadata": {
        "id": "yWQHgoiXMxl9"
      }
    },
    {
      "cell_type": "code",
      "source": [
        "n = 2 # moles\n",
        "R = 0.082 # atm.L/mol.K\n",
        "temp = 300 # kelvin\n",
        "p = 3 # atm\n",
        "\n",
        "# PavoRaton P=R*T*n/V\n",
        "vol = (R * temp* n) / p\n",
        "\n",
        "print(f\"El volumen es {vol:.2f} litros.\")"
      ],
      "metadata": {
        "colab": {
          "base_uri": "https://localhost:8080/"
        },
        "id": "yMgy-rHJM23b",
        "outputId": "e23f1bd7-a06b-4358-f13d-e886ab5f4241"
      },
      "execution_count": null,
      "outputs": [
        {
          "output_type": "stream",
          "name": "stdout",
          "text": [
            "El volumen es 16.40 litros.\n"
          ]
        }
      ]
    },
    {
      "cell_type": "markdown",
      "source": [
        "1.4. El nitrógeno líquido se encuentra a -196°C. ¿Cuál es esta temperatura en Kelvin?"
      ],
      "metadata": {
        "id": "h5TGCLxhOUfM"
      }
    },
    {
      "cell_type": "code",
      "source": [
        "temp_cels = -196 #°C\n",
        "temp_kelvin = temp_cels + 273\n",
        "\n",
        "print(f\"La temperatura del nitrogeno liquido en kelvin es: {temp_kelvin}\")"
      ],
      "metadata": {
        "colab": {
          "base_uri": "https://localhost:8080/"
        },
        "id": "-kqdnMDNOkNk",
        "outputId": "08d3bac9-315e-4b3b-8914-cbc07ce2aebe"
      },
      "execution_count": null,
      "outputs": [
        {
          "output_type": "stream",
          "name": "stdout",
          "text": [
            "La temperatura del nitrogeno liquido en kelvin es: 77\n"
          ]
        }
      ]
    },
    {
      "cell_type": "markdown",
      "source": [
        "# **2. Características del estado gaseoso**"
      ],
      "metadata": {
        "id": "sSRmdRUEohav"
      }
    },
    {
      "cell_type": "markdown",
      "source": [
        "2.1 ¿Cuál es la principal característica que distingue a los gases de los líquidos y sólidos?"
      ],
      "metadata": {
        "id": "6CUp1uPPQmf1"
      }
    },
    {
      "cell_type": "markdown",
      "source": [
        "La principal característica que distingue a los gases de los líquidos y sólidos es la falta de orden y estructura en las posiciones debido al movimiento de sus partículas. Estas se mueven de manera desordenada y libre en todas direcciones, sin posiciones fijas ni patrones de movimiento definidos. En cambio, los líquidos y sólidos tienen estructuras más organizadas y cohesivas.\n",
        "\n",
        "\n",
        "\n",
        "\n",
        "\n",
        "\n"
      ],
      "metadata": {
        "id": "D6AkhPuMQpit"
      }
    },
    {
      "cell_type": "markdown",
      "source": [
        "2.3 Si se duplica la temperatura de un gas ideal, ¿cómo afecta esto a su presión, suponiendo que\n",
        "el volumen y la cantidad de gas permanezcan constantes?"
      ],
      "metadata": {
        "id": "snGlVvcNPsYs"
      }
    },
    {
      "cell_type": "code",
      "source": [
        "# Asumiendo valores fijos\n",
        "p_ini = 1 #atm\n",
        "temp_ini = 273 #kelvin\n",
        "\n",
        "temp_final = 2 * temp_ini\n",
        "\n",
        "p_final = (p_ini * temp_final) / temp_ini\n",
        "print(f\"La presión inicial es {p_ini} atm\")\n",
        "print(f\"La presión final es {p_final} atm\")\n",
        "print(f\"Por lo tanto se observa que si la temperatura se duplica la presión también\")"
      ],
      "metadata": {
        "colab": {
          "base_uri": "https://localhost:8080/"
        },
        "id": "MjGHVdULP65U",
        "outputId": "f6686449-2f88-4138-d8da-2daf988188fa"
      },
      "execution_count": null,
      "outputs": [
        {
          "output_type": "stream",
          "name": "stdout",
          "text": [
            "La presión inicial es 1 atm\n",
            "La presión final es 2.0 atm\n",
            "Por lo tanto se observa que si la temperatura se duplica la presión también\n"
          ]
        }
      ]
    },
    {
      "cell_type": "markdown",
      "source": [
        "# **3. Definición y problemas sobre presión**"
      ],
      "metadata": {
        "id": "vCr6fd7NosuQ"
      }
    },
    {
      "cell_type": "markdown",
      "source": [
        "3.1 Calcula la presión ejercida por 0.5 moles de gas en un recipiente de 10 litros a 25°C."
      ],
      "metadata": {
        "id": "CC_IlyQYWyS-"
      }
    },
    {
      "cell_type": "code",
      "source": [
        "n = 0.5 # moles\n",
        "vol = 10.0  # litros\n",
        "temp_cels = 25  # Celsius\n",
        "temp_kelvin = temp_cels + 273\n",
        "R = 0.082 # atm.L/mol.K\n",
        "\n",
        "p = (n * R * temp_kelvin) / (vol)\n",
        "\n",
        "print(f\"La presión ejercida es aproximadamente {p:.2f} atmósferas\")"
      ],
      "metadata": {
        "colab": {
          "base_uri": "https://localhost:8080/"
        },
        "id": "BCOsDrDcW09e",
        "outputId": "32e5c59e-9ace-40a1-a6a0-83b7086961d8"
      },
      "execution_count": null,
      "outputs": [
        {
          "output_type": "stream",
          "name": "stdout",
          "text": [
            "La presión ejercida es aproximadamente 1.22 atmósferas\n"
          ]
        }
      ]
    },
    {
      "cell_type": "markdown",
      "source": [
        "3.3. ¿Cuál es la presión en torr de un gas que ejerce una presión de 2.5 atmósferas?"
      ],
      "metadata": {
        "id": "qfGqPrpTZ3e2"
      }
    },
    {
      "cell_type": "code",
      "source": [
        "presion_atm = 2.5\n",
        "presion_torr = presion_atm * 760\n",
        "\n",
        "print(f\"La presión de {presion_atm} atmósferas es equivalente a {presion_torr} torr\")"
      ],
      "metadata": {
        "colab": {
          "base_uri": "https://localhost:8080/"
        },
        "id": "WS9So5u9Z5k2",
        "outputId": "b944f80a-9252-4ec7-9948-d851f63093a1"
      },
      "execution_count": null,
      "outputs": [
        {
          "output_type": "stream",
          "name": "stdout",
          "text": [
            "La presión de 2.5 atmósferas es equivalente a 1900.0 torr\n"
          ]
        }
      ]
    },
    {
      "cell_type": "markdown",
      "source": [
        "# **4. Principios de la Teoría Cinético Molecular de los gases**"
      ],
      "metadata": {
        "id": "u3VqXA4GowyS"
      }
    },
    {
      "cell_type": "markdown",
      "source": [
        "4.1. ¿Cuáles son los postulados clave de la teoría cinético-molecular de los gases?"
      ],
      "metadata": {
        "id": "xplm2RsMawWW"
      }
    },
    {
      "cell_type": "markdown",
      "source": [
        "Los postulados clave de la teoría cinético-molecular de los gases son:\n",
        "\n",
        "**Partículas pequeñas y separadas**: Las partículas de un gas son muy pequeñas y\n",
        "están separadas entre sí.\n",
        "\n",
        "**Movimiento constante y desordenado**: Las partículas se mueven constantemente en todas direcciones con velocidades aleatorias.\n",
        "\n",
        "**Colisiones elásticas**: Las colisiones entre partículas son elásticas, lo que significa que no hay pérdida neta de energía cinética.\n",
        "\n",
        "**Temperatura y energía cinética**: La temperatura está relacionada con la energía cinética promedio de las partículas.\n",
        "\n",
        "**Presión y colisiones**: La presión de un gas se debe al impacto constante de las partículas contra las paredes del recipiente."
      ],
      "metadata": {
        "id": "USZbNa4aad-f"
      }
    },
    {
      "cell_type": "markdown",
      "source": [
        "4.3. ¿Por qué la temperatura se relaciona con la velocidad promedio de las partículas en un gas\n",
        "ideal?"
      ],
      "metadata": {
        "id": "YW8fvzVtbZQP"
      }
    },
    {
      "cell_type": "markdown",
      "source": [
        "La temperatura está relacionada con la velocidad promedio de las partículas debido a la teoría cinético-molecular. La temperatura representa la energía cinética promedio de las partículas. A medida que aumenta la temperatura, la energía cinética promedio aumenta. La relación entre la temperatura y la velocidad se debe a que la temperatura afecta la energía cinética y por lo tanto, la velocidad de las partículas en el gas."
      ],
      "metadata": {
        "id": "lFwSxGCCbHEv"
      }
    },
    {
      "cell_type": "markdown",
      "source": [
        "# **5. Ley General de los Gases Ideales**"
      ],
      "metadata": {
        "id": "hrCg0L83ozfX"
      }
    },
    {
      "cell_type": "markdown",
      "source": [
        "5.1. Utiliza la ecuación de los gases ideales para calcular la presión de 2 moles de gas en un\n",
        "recipiente de 5 litros a 25°C."
      ],
      "metadata": {
        "id": "GHeIkCfedvFQ"
      }
    },
    {
      "cell_type": "code",
      "source": [
        "n = 2 # moles\n",
        "vol = 5  # litros\n",
        "temp_cels = 25  # Celsius\n",
        "temp_kelvin = temp_cels + 273.15\n",
        "R = 0.082 # atm.L/mol.K\n",
        "\n",
        "P = (R * temp_kelvin * n) / (vol)\n",
        "\n",
        "print(f\"La presión ejercida es{P: .2f} atmosferas\")"
      ],
      "metadata": {
        "colab": {
          "base_uri": "https://localhost:8080/"
        },
        "id": "2p5iGei_dnJ3",
        "outputId": "90fc8b6b-3d4f-4045-d6ea-7154e6d735f6"
      },
      "execution_count": null,
      "outputs": [
        {
          "output_type": "stream",
          "name": "stdout",
          "text": [
            "La presión ejercida es 9.78 atmosferas\n"
          ]
        }
      ]
    },
    {
      "cell_type": "markdown",
      "source": [
        "5.2. Si tienes un gas que ocupa 10 litros a 3 atmósferas de presión y 273 K de temperatura,\n",
        "¿cuántos moles de gas tienes?"
      ],
      "metadata": {
        "id": "EhPG4bZDboCv"
      }
    },
    {
      "cell_type": "code",
      "source": [
        "presion_atm = 3  # atmósferas\n",
        "volumen_litros = 10  # litros\n",
        "temperatura_kelvin = 273  # kelvin\n",
        "R = 0.082 # atm.L/mol.K\n",
        "\n",
        "# PavoRaton n = P*V/R*t\n",
        "n = (presion_atm * volumen_litros) / (R * temperatura_kelvin)\n",
        "\n",
        "print(f\"La cantidad de moles de gas es aproximadamente: {n:.3f} moles\")\n"
      ],
      "metadata": {
        "colab": {
          "base_uri": "https://localhost:8080/"
        },
        "id": "VCd9smvNbsSH",
        "outputId": "e208d54f-2636-43da-99f8-1402b0a7a227"
      },
      "execution_count": null,
      "outputs": [
        {
          "output_type": "stream",
          "name": "stdout",
          "text": [
            "La cantidad de moles de gas es aproximadamente: 1.340 moles\n"
          ]
        }
      ]
    },
    {
      "cell_type": "markdown",
      "source": [
        "# **6. Ley de Gay-Lussac:**"
      ],
      "metadata": {
        "id": "HkS-_MTFo2I8"
      }
    },
    {
      "cell_type": "markdown",
      "source": [
        "6.1. Un recipiente de 2 litros contiene 1 mol de gas a 300 K. Si la presión se duplica manteniendo\n",
        "el volumen constante, ¿cuál será la nueva temperatura?\n"
      ],
      "metadata": {
        "id": "HE3DWCuhVnYQ"
      }
    },
    {
      "cell_type": "code",
      "source": [
        "vol_ini = 2 # litros\n",
        "n = 1 # mol\n",
        "temp_ini = 300 # kelvin\n",
        "R = 0.082 # atm.L/K.mol\n",
        "\n",
        "# PavoRaton P=R*T*n/V\n",
        "p_ini = (R * temp_ini * n )/ vol_ini\n",
        "p_final = 2 * p_ini\n",
        "\n",
        "# Ley de Gay-Lussac P1/T1=P2/T2\n",
        "temp_final = (temp_ini * p_ini) / p_final\n",
        "\n",
        "print(f\"La temperatura nueva será {temp_final:.2f} K\")\n"
      ],
      "metadata": {
        "colab": {
          "base_uri": "https://localhost:8080/"
        },
        "id": "5aeauiVwVyFM",
        "outputId": "c558588f-36cc-45f3-cc13-997a4b6fa9fe"
      },
      "execution_count": null,
      "outputs": [
        {
          "output_type": "stream",
          "name": "stdout",
          "text": [
            "La temperatura nueva será 150.00 K\n"
          ]
        }
      ]
    },
    {
      "cell_type": "markdown",
      "source": [
        "6.3. Si un recipiente de 4 litros contiene 3 moles de un gas a 400 K, ¿cuál será la presión si el\n",
        "volumen se reduce a 2 litros a temperatura constante?"
      ],
      "metadata": {
        "id": "IEk3pR4sZS0e"
      }
    },
    {
      "cell_type": "code",
      "source": [
        "vol_ini = 4 # litros\n",
        "n = 3  # moles\n",
        "temp = 400  # kelvin\n",
        "R = 0.082  # atm.L/K.mol\n",
        "vol_final = 2 # litros\n",
        "\n",
        "# PavoRaton P=R*T*n/V\n",
        "p_ini = R * temp * n / vol_ini\n",
        "p_final = p_ini * vol_ini / vol_final\n",
        "\n",
        "print(f\"La presión será {p_final} atm\")\n"
      ],
      "metadata": {
        "colab": {
          "base_uri": "https://localhost:8080/"
        },
        "id": "CuUvOUbCYdOj",
        "outputId": "7fa3615e-0a54-4f08-998f-804572765291"
      },
      "execution_count": null,
      "outputs": [
        {
          "output_type": "stream",
          "name": "stdout",
          "text": [
            "La presión será 49.2 atm\n"
          ]
        }
      ]
    },
    {
      "cell_type": "markdown",
      "source": [
        "# **7. Ley de Charles:**"
      ],
      "metadata": {
        "id": "ehWyo_Tjo58e"
      }
    },
    {
      "cell_type": "markdown",
      "source": [
        "\n",
        "\n",
        "7.1. Un globo se llena con 2 moles de gas a 25 °C. Si el volumen inicial es de 5 litros, ¿cuál será el\n",
        "volumen a 50 °C, manteniendo constante la presión?\n",
        "\n"
      ],
      "metadata": {
        "id": "hum2W8LtfJ9o"
      }
    },
    {
      "cell_type": "code",
      "source": [
        "vol_ini = 5 # litros\n",
        "n = 2 # moles\n",
        "temp_ini = 25 # Celsius\n",
        "temp_final = 50 # Celsius\n",
        "\n",
        "temp_ini_kelvin = temp_ini + 273\n",
        "temp_final_kelvin = temp_final + 273\n",
        "\n",
        "# Ley de Charles V1/T1=V2/T2\n",
        "vol_final = (vol_ini * temp_final_kelvin) / temp_ini_kelvin\n",
        "\n",
        "print(f\"El volumen será {vol_final:.2f} litros\")"
      ],
      "metadata": {
        "colab": {
          "base_uri": "https://localhost:8080/"
        },
        "id": "lTZOKuUpfbje",
        "outputId": "e25ac256-640e-49b1-c708-8f84c8f02226"
      },
      "execution_count": null,
      "outputs": [
        {
          "output_type": "stream",
          "name": "stdout",
          "text": [
            "El volumen será 5.42 litros\n"
          ]
        }
      ]
    },
    {
      "cell_type": "markdown",
      "source": [
        "7.2. Si un gas ocupa un volumen de 2 litros a 0 °C, ¿cuál será el volumen a 100 °C si la presión se\n",
        "mantiene constante?"
      ],
      "metadata": {
        "id": "PTEHPJTWg1Hc"
      }
    },
    {
      "cell_type": "code",
      "source": [
        "vol_ini = 2  # litros\n",
        "n = 2 # moles\n",
        "temp_ini = 0 # Celsius\n",
        "temp_final = 100  # Celsius\n",
        "\n",
        "temp_ini_kelvin = temp_ini + 273\n",
        "temp_final_kelvin = temp_final + 273\n",
        "\n",
        "# Ley de Charles V1/T1=V2/T2\n",
        "vol_final = (vol_ini * temp_final_kelvin) / temp_ini_kelvin\n",
        "\n",
        "print(f\"El volumen será {vol_final:.2f} litros\")"
      ],
      "metadata": {
        "colab": {
          "base_uri": "https://localhost:8080/"
        },
        "id": "KHDfjUITg1rg",
        "outputId": "44d0e50b-ac23-4df8-f34c-0ff37dd940df"
      },
      "execution_count": null,
      "outputs": [
        {
          "output_type": "stream",
          "name": "stdout",
          "text": [
            "El volumen será 2.73 litros\n"
          ]
        }
      ]
    },
    {
      "cell_type": "markdown",
      "source": [
        "# **8. Ley de Boyle-Mariotte:**"
      ],
      "metadata": {
        "id": "z4lYU5xQpAQQ"
      }
    },
    {
      "cell_type": "markdown",
      "source": [
        "8.1. Un gas ocupa 2 litros a una presión de 3 atmósferas. Si se comprime a 1 litro, ¿cuál será la\n",
        "nueva presión a temperatura constante?"
      ],
      "metadata": {
        "id": "ydUm99-ehD-9"
      }
    },
    {
      "cell_type": "code",
      "source": [
        "\n",
        "vol_ini = 2  # litros\n",
        "p_ini = 3 # atm\n",
        "vol_final = 1 # litro\n",
        "\n",
        "# Ley de Boyle-Mariotte P1*V1 = P2*V2\n",
        "p_final = (p_ini * vol_ini) / vol_final\n",
        "\n",
        "print(f\"La nueva presión será {p_final} atmósferas\")"
      ],
      "metadata": {
        "colab": {
          "base_uri": "https://localhost:8080/"
        },
        "id": "oZE-4C6uhhuC",
        "outputId": "66d125b2-3080-4ff3-9c7c-f5f3629db8a5"
      },
      "execution_count": null,
      "outputs": [
        {
          "output_type": "stream",
          "name": "stdout",
          "text": [
            "La nueva presión será 6.0 atmósferas\n"
          ]
        }
      ]
    },
    {
      "cell_type": "markdown",
      "source": [
        "8.2. Si un gas a 2 atmósferas de presión ocupa un volumen de 10 litros, ¿cuál sería el nuevo\n",
        "volumen si la presión se duplica?"
      ],
      "metadata": {
        "id": "aaTtGQ9phiAt"
      }
    },
    {
      "cell_type": "code",
      "source": [
        "p_ini = 2  # atm\n",
        "vol_ini = 10  # litros\n",
        "p_final = p_ini * 2\n",
        "\n",
        "# Ley de Boyle-Mariotte P1*V1 = P2*V2\n",
        "vol_final = (p_ini * vol_ini) / p_final\n",
        "\n",
        "print(f\"El nuevo volumen será {vol_final} litros\")"
      ],
      "metadata": {
        "colab": {
          "base_uri": "https://localhost:8080/"
        },
        "id": "BT0R477ah8r6",
        "outputId": "2005617b-9ffc-49a7-b856-998dab964273"
      },
      "execution_count": null,
      "outputs": [
        {
          "output_type": "stream",
          "name": "stdout",
          "text": [
            "El nuevo volumen será 5.0 litros\n"
          ]
        }
      ]
    },
    {
      "cell_type": "markdown",
      "source": [
        "# **9. Ley de las presiones parciales de Dalton:**"
      ],
      "metadata": {
        "id": "ibrZqacBpB9J"
      }
    },
    {
      "cell_type": "markdown",
      "source": [
        "![23890_formula-ley-dalton.png](data:image/png;base64,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)"
      ],
      "metadata": {
        "id": "-eclWwvMueB4"
      }
    },
    {
      "cell_type": "markdown",
      "source": [
        "9.1. Un recipiente contiene oxígeno (O2) y nitrógeno (N2) a una presión total de 3 atmósferas. Si\n",
        "la presión parcial de O2 es de 1 atmósfera, ¿cuál es la presión parcial de N2?"
      ],
      "metadata": {
        "id": "dGuDQH_pjY4U"
      }
    },
    {
      "cell_type": "code",
      "source": [
        "#La presion total es la suma de las presiones parciales de los gases.\n",
        "p_total = 3 # atm\n",
        "p_oxi = 1 # atm\n",
        "\n",
        "p_nitro = p_total - p_oxi\n",
        "\n",
        "print(f\"La presión parcial del nitrógeno es {p_nitro} atm\")"
      ],
      "metadata": {
        "colab": {
          "base_uri": "https://localhost:8080/"
        },
        "id": "d0jqMaWmjYd7",
        "outputId": "7cebcb46-51e4-43f6-b9bd-6f57b9f64f1d"
      },
      "execution_count": null,
      "outputs": [
        {
          "output_type": "stream",
          "name": "stdout",
          "text": [
            "La presión parcial del nitrógeno es 2 atm\n"
          ]
        }
      ]
    },
    {
      "cell_type": "markdown",
      "source": [
        "9.2. En un recipiente, la presión parcial de hidrógeno (H2) es de 0.2 atmósferas, la del oxígeno\n",
        "(O2) es de 0.5 atmósferas y la del nitrógeno (N2) es de 0.3 atmósferas. ¿Cuál es la presión total\n",
        "en el recipiente?"
      ],
      "metadata": {
        "id": "v6zjmt_qjjBh"
      }
    },
    {
      "cell_type": "code",
      "source": [
        "p_hidro = 0.2  # atm\n",
        "p_oxi = 0.5  # atm\n",
        "p_nitro = 0.3  # atm\n",
        "\n",
        "p_total = p_hidro + p_oxi + p_nitro\n",
        "\n",
        "print(f\"La presión total es {p_total} atm\")"
      ],
      "metadata": {
        "colab": {
          "base_uri": "https://localhost:8080/"
        },
        "id": "qSbdeU_8kb_i",
        "outputId": "02a11287-b42d-4442-dc0a-1c3e47777594"
      },
      "execution_count": null,
      "outputs": [
        {
          "output_type": "stream",
          "name": "stdout",
          "text": [
            "La presión total es 1.0 atm\n"
          ]
        }
      ]
    },
    {
      "cell_type": "markdown",
      "source": [
        "# **10. Gases Reales:**"
      ],
      "metadata": {
        "id": "oP1o9czopEIB"
      }
    },
    {
      "cell_type": "markdown",
      "source": [
        "10.1. Si 2 moles de un gas real ocupan 3 litros a 300 K y 2 atmósferas de presión, ¿cuál es el factor\n",
        "de compresibilidad (Z) del gas?"
      ],
      "metadata": {
        "id": "JxFEfGg9k6EN"
      }
    },
    {
      "cell_type": "code",
      "source": [
        "p = 2 # atm\n",
        "vol = 3 # litros\n",
        "n = 2 # moles\n",
        "R = 0.082 # atm.L/mol.K\n",
        "temp = 300 # kelvin\n",
        "\n",
        "# El factor de compresibilidad (Z) se calcula: P*V=Z*R*T*n\n",
        "fact = (p * vol) / (R * temp * n)\n",
        "\n",
        "print(f\"El factor de compresibilidad (Z) del gas es aproximadamente {fact :.2f}\")"
      ],
      "metadata": {
        "colab": {
          "base_uri": "https://localhost:8080/"
        },
        "id": "XIExe2KLlV5D",
        "outputId": "4ed31a58-7c69-47d9-d6ca-39c162631b74"
      },
      "execution_count": null,
      "outputs": [
        {
          "output_type": "stream",
          "name": "stdout",
          "text": [
            "El factor de compresibilidad (Z) del gas es aproximadamente 0.12\n"
          ]
        }
      ]
    },
    {
      "cell_type": "markdown",
      "source": [
        "10.5. Si un gas real tiene un factor de compresibilidad (Z) de 0.95 a 300 K y 3 atmósferas de\n",
        "presión, ¿cuál sería su volumen si la presión se reduce a 2 atmósferas a la misma temperatura?"
      ],
      "metadata": {
        "id": "yVVQqon-mFHE"
      }
    },
    {
      "cell_type": "code",
      "source": [
        "fact = 0.95 # factor de compresibilidad\n",
        "n = 2 # moles\n",
        "R = 0.082 # atm.L/mol.K\n",
        "temp = 300  # Temperatura en kelvin\n",
        "p_ini = 3 # atm\n",
        "p_final = 2  # atm\n",
        "\n",
        "# El factor de compresibilidad (Z) se calcula: P*V=Z*R*T*n\n",
        "vol_ini = (fact * R * temp * n) / p_ini\n",
        "vol_final = (fact * R* temp * n) / p_final\n",
        "\n",
        "print(f\"El volumen inicial es {vol_ini:.2f} litros\")\n",
        "print(f\"El volumen final {vol_final:.2f} litros\")"
      ],
      "metadata": {
        "colab": {
          "base_uri": "https://localhost:8080/"
        },
        "id": "1CJBsKfhl7TQ",
        "outputId": "804b0f01-5935-4ab3-ed61-f33bb2a49e1f"
      },
      "execution_count": null,
      "outputs": [
        {
          "output_type": "stream",
          "name": "stdout",
          "text": [
            "El volumen inicial es 15.58 litros\n",
            "El volumen final 23.37 litros\n"
          ]
        }
      ]
    }
  ]
}